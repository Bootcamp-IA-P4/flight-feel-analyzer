{
 "cells": [
  {
   "cell_type": "markdown",
   "metadata": {
    "id": "kPpPH0aiJKLs"
   },
   "source": [
    "## Importación de librerias"
   ]
  },
  {
   "cell_type": "code",
   "execution_count": 2,
   "metadata": {
    "id": "iKpoZP-C0ath"
   },
   "outputs": [],
   "source": [
    "import numpy as np\n",
    "import pandas as pd\n",
    "import matplotlib.pyplot as plt\n",
    "import seaborn as sns\n",
    "import missingno as msno"
   ]
  },
  {
   "cell_type": "markdown",
   "metadata": {
    "id": "Q41XWof8JXCi"
   },
   "source": [
    "## Carga de archivos"
   ]
  },
  {
   "cell_type": "code",
   "execution_count": 3,
   "metadata": {
    "id": "Z9YNJusiJZhs"
   },
   "outputs": [],
   "source": [
    "df=pd.read_csv(\"https://raw.githubusercontent.com/Bootcamp-IA-P4/flight-feel-analyzer/refs/heads/dev/data/airline_passenger_satisfaction.csv\")"
   ]
  },
  {
   "cell_type": "markdown",
   "metadata": {
    "id": "-Vh9fp_zcPnn"
   },
   "source": [
    "## Exploración Inicial"
   ]
  },
  {
   "cell_type": "code",
   "execution_count": 6,
   "metadata": {
    "colab": {
     "base_uri": "https://localhost:8080/",
     "height": 638
    },
    "id": "5EcoU2ArcUD2",
    "outputId": "77ee1824-331c-4369-9eb2-d2e178e7e7fd"
   },
   "outputs": [
    {
     "data": {
      "application/vnd.microsoft.datawrangler.viewer.v0+json": {
       "columns": [
        {
         "name": "index",
         "rawType": "int64",
         "type": "integer"
        },
        {
         "name": "Unnamed: 0",
         "rawType": "int64",
         "type": "integer"
        },
        {
         "name": "id",
         "rawType": "int64",
         "type": "integer"
        },
        {
         "name": "Gender",
         "rawType": "object",
         "type": "string"
        },
        {
         "name": "Customer Type",
         "rawType": "object",
         "type": "string"
        },
        {
         "name": "Age",
         "rawType": "int64",
         "type": "integer"
        },
        {
         "name": "Type of Travel",
         "rawType": "object",
         "type": "string"
        },
        {
         "name": "Class",
         "rawType": "object",
         "type": "string"
        },
        {
         "name": "Flight Distance",
         "rawType": "int64",
         "type": "integer"
        },
        {
         "name": "Inflight wifi service",
         "rawType": "int64",
         "type": "integer"
        },
        {
         "name": "Departure/Arrival time convenient",
         "rawType": "int64",
         "type": "integer"
        },
        {
         "name": "Ease of Online booking",
         "rawType": "int64",
         "type": "integer"
        },
        {
         "name": "Gate location",
         "rawType": "int64",
         "type": "integer"
        },
        {
         "name": "Food and drink",
         "rawType": "int64",
         "type": "integer"
        },
        {
         "name": "Online boarding",
         "rawType": "int64",
         "type": "integer"
        },
        {
         "name": "Seat comfort",
         "rawType": "int64",
         "type": "integer"
        },
        {
         "name": "Inflight entertainment",
         "rawType": "int64",
         "type": "integer"
        },
        {
         "name": "On-board service",
         "rawType": "int64",
         "type": "integer"
        },
        {
         "name": "Leg room service",
         "rawType": "int64",
         "type": "integer"
        },
        {
         "name": "Baggage handling",
         "rawType": "int64",
         "type": "integer"
        },
        {
         "name": "Checkin service",
         "rawType": "int64",
         "type": "integer"
        },
        {
         "name": "Inflight service",
         "rawType": "int64",
         "type": "integer"
        },
        {
         "name": "Cleanliness",
         "rawType": "int64",
         "type": "integer"
        },
        {
         "name": "Departure Delay in Minutes",
         "rawType": "int64",
         "type": "integer"
        },
        {
         "name": "Arrival Delay in Minutes",
         "rawType": "float64",
         "type": "float"
        },
        {
         "name": "satisfaction",
         "rawType": "object",
         "type": "string"
        }
       ],
       "conversionMethod": "pd.DataFrame",
       "ref": "1d1d753e-d2b3-42cd-9b8b-0c12bbfd7c91",
       "rows": [
        [
         "0",
         "0",
         "70172",
         "Male",
         "Loyal Customer",
         "13",
         "Personal Travel",
         "Eco Plus",
         "460",
         "3",
         "4",
         "3",
         "1",
         "5",
         "3",
         "5",
         "5",
         "4",
         "3",
         "4",
         "4",
         "5",
         "5",
         "25",
         "18.0",
         "neutral or dissatisfied"
        ],
        [
         "1",
         "1",
         "5047",
         "Male",
         "disloyal Customer",
         "25",
         "Business travel",
         "Business",
         "235",
         "3",
         "2",
         "3",
         "3",
         "1",
         "3",
         "1",
         "1",
         "1",
         "5",
         "3",
         "1",
         "4",
         "1",
         "1",
         "6.0",
         "neutral or dissatisfied"
        ],
        [
         "2",
         "2",
         "110028",
         "Female",
         "Loyal Customer",
         "26",
         "Business travel",
         "Business",
         "1142",
         "2",
         "2",
         "2",
         "2",
         "5",
         "5",
         "5",
         "5",
         "4",
         "3",
         "4",
         "4",
         "4",
         "5",
         "0",
         "0.0",
         "satisfied"
        ],
        [
         "3",
         "3",
         "24026",
         "Female",
         "Loyal Customer",
         "25",
         "Business travel",
         "Business",
         "562",
         "2",
         "5",
         "5",
         "5",
         "2",
         "2",
         "2",
         "2",
         "2",
         "5",
         "3",
         "1",
         "4",
         "2",
         "11",
         "9.0",
         "neutral or dissatisfied"
        ],
        [
         "4",
         "4",
         "119299",
         "Male",
         "Loyal Customer",
         "61",
         "Business travel",
         "Business",
         "214",
         "3",
         "3",
         "3",
         "3",
         "4",
         "5",
         "5",
         "3",
         "3",
         "4",
         "4",
         "3",
         "3",
         "3",
         "0",
         "0.0",
         "satisfied"
        ],
        [
         "5",
         "5",
         "111157",
         "Female",
         "Loyal Customer",
         "26",
         "Personal Travel",
         "Eco",
         "1180",
         "3",
         "4",
         "2",
         "1",
         "1",
         "2",
         "1",
         "1",
         "3",
         "4",
         "4",
         "4",
         "4",
         "1",
         "0",
         "0.0",
         "neutral or dissatisfied"
        ],
        [
         "6",
         "6",
         "82113",
         "Male",
         "Loyal Customer",
         "47",
         "Personal Travel",
         "Eco",
         "1276",
         "2",
         "4",
         "2",
         "3",
         "2",
         "2",
         "2",
         "2",
         "3",
         "3",
         "4",
         "3",
         "5",
         "2",
         "9",
         "23.0",
         "neutral or dissatisfied"
        ],
        [
         "7",
         "7",
         "96462",
         "Female",
         "Loyal Customer",
         "52",
         "Business travel",
         "Business",
         "2035",
         "4",
         "3",
         "4",
         "4",
         "5",
         "5",
         "5",
         "5",
         "5",
         "5",
         "5",
         "4",
         "5",
         "4",
         "4",
         "0.0",
         "satisfied"
        ],
        [
         "8",
         "8",
         "79485",
         "Female",
         "Loyal Customer",
         "41",
         "Business travel",
         "Business",
         "853",
         "1",
         "2",
         "2",
         "2",
         "4",
         "3",
         "3",
         "1",
         "1",
         "2",
         "1",
         "4",
         "1",
         "2",
         "0",
         "0.0",
         "neutral or dissatisfied"
        ],
        [
         "9",
         "9",
         "65725",
         "Male",
         "disloyal Customer",
         "20",
         "Business travel",
         "Eco",
         "1061",
         "3",
         "3",
         "3",
         "4",
         "2",
         "3",
         "3",
         "2",
         "2",
         "3",
         "4",
         "4",
         "3",
         "2",
         "0",
         "0.0",
         "neutral or dissatisfied"
        ]
       ],
       "shape": {
        "columns": 25,
        "rows": 10
       }
      },
      "text/html": [
       "<div>\n",
       "<style scoped>\n",
       "    .dataframe tbody tr th:only-of-type {\n",
       "        vertical-align: middle;\n",
       "    }\n",
       "\n",
       "    .dataframe tbody tr th {\n",
       "        vertical-align: top;\n",
       "    }\n",
       "\n",
       "    .dataframe thead th {\n",
       "        text-align: right;\n",
       "    }\n",
       "</style>\n",
       "<table border=\"1\" class=\"dataframe\">\n",
       "  <thead>\n",
       "    <tr style=\"text-align: right;\">\n",
       "      <th></th>\n",
       "      <th>Unnamed: 0</th>\n",
       "      <th>id</th>\n",
       "      <th>Gender</th>\n",
       "      <th>Customer Type</th>\n",
       "      <th>Age</th>\n",
       "      <th>Type of Travel</th>\n",
       "      <th>Class</th>\n",
       "      <th>Flight Distance</th>\n",
       "      <th>Inflight wifi service</th>\n",
       "      <th>Departure/Arrival time convenient</th>\n",
       "      <th>...</th>\n",
       "      <th>Inflight entertainment</th>\n",
       "      <th>On-board service</th>\n",
       "      <th>Leg room service</th>\n",
       "      <th>Baggage handling</th>\n",
       "      <th>Checkin service</th>\n",
       "      <th>Inflight service</th>\n",
       "      <th>Cleanliness</th>\n",
       "      <th>Departure Delay in Minutes</th>\n",
       "      <th>Arrival Delay in Minutes</th>\n",
       "      <th>satisfaction</th>\n",
       "    </tr>\n",
       "  </thead>\n",
       "  <tbody>\n",
       "    <tr>\n",
       "      <th>0</th>\n",
       "      <td>0</td>\n",
       "      <td>70172</td>\n",
       "      <td>Male</td>\n",
       "      <td>Loyal Customer</td>\n",
       "      <td>13</td>\n",
       "      <td>Personal Travel</td>\n",
       "      <td>Eco Plus</td>\n",
       "      <td>460</td>\n",
       "      <td>3</td>\n",
       "      <td>4</td>\n",
       "      <td>...</td>\n",
       "      <td>5</td>\n",
       "      <td>4</td>\n",
       "      <td>3</td>\n",
       "      <td>4</td>\n",
       "      <td>4</td>\n",
       "      <td>5</td>\n",
       "      <td>5</td>\n",
       "      <td>25</td>\n",
       "      <td>18.0</td>\n",
       "      <td>neutral or dissatisfied</td>\n",
       "    </tr>\n",
       "    <tr>\n",
       "      <th>1</th>\n",
       "      <td>1</td>\n",
       "      <td>5047</td>\n",
       "      <td>Male</td>\n",
       "      <td>disloyal Customer</td>\n",
       "      <td>25</td>\n",
       "      <td>Business travel</td>\n",
       "      <td>Business</td>\n",
       "      <td>235</td>\n",
       "      <td>3</td>\n",
       "      <td>2</td>\n",
       "      <td>...</td>\n",
       "      <td>1</td>\n",
       "      <td>1</td>\n",
       "      <td>5</td>\n",
       "      <td>3</td>\n",
       "      <td>1</td>\n",
       "      <td>4</td>\n",
       "      <td>1</td>\n",
       "      <td>1</td>\n",
       "      <td>6.0</td>\n",
       "      <td>neutral or dissatisfied</td>\n",
       "    </tr>\n",
       "    <tr>\n",
       "      <th>2</th>\n",
       "      <td>2</td>\n",
       "      <td>110028</td>\n",
       "      <td>Female</td>\n",
       "      <td>Loyal Customer</td>\n",
       "      <td>26</td>\n",
       "      <td>Business travel</td>\n",
       "      <td>Business</td>\n",
       "      <td>1142</td>\n",
       "      <td>2</td>\n",
       "      <td>2</td>\n",
       "      <td>...</td>\n",
       "      <td>5</td>\n",
       "      <td>4</td>\n",
       "      <td>3</td>\n",
       "      <td>4</td>\n",
       "      <td>4</td>\n",
       "      <td>4</td>\n",
       "      <td>5</td>\n",
       "      <td>0</td>\n",
       "      <td>0.0</td>\n",
       "      <td>satisfied</td>\n",
       "    </tr>\n",
       "    <tr>\n",
       "      <th>3</th>\n",
       "      <td>3</td>\n",
       "      <td>24026</td>\n",
       "      <td>Female</td>\n",
       "      <td>Loyal Customer</td>\n",
       "      <td>25</td>\n",
       "      <td>Business travel</td>\n",
       "      <td>Business</td>\n",
       "      <td>562</td>\n",
       "      <td>2</td>\n",
       "      <td>5</td>\n",
       "      <td>...</td>\n",
       "      <td>2</td>\n",
       "      <td>2</td>\n",
       "      <td>5</td>\n",
       "      <td>3</td>\n",
       "      <td>1</td>\n",
       "      <td>4</td>\n",
       "      <td>2</td>\n",
       "      <td>11</td>\n",
       "      <td>9.0</td>\n",
       "      <td>neutral or dissatisfied</td>\n",
       "    </tr>\n",
       "    <tr>\n",
       "      <th>4</th>\n",
       "      <td>4</td>\n",
       "      <td>119299</td>\n",
       "      <td>Male</td>\n",
       "      <td>Loyal Customer</td>\n",
       "      <td>61</td>\n",
       "      <td>Business travel</td>\n",
       "      <td>Business</td>\n",
       "      <td>214</td>\n",
       "      <td>3</td>\n",
       "      <td>3</td>\n",
       "      <td>...</td>\n",
       "      <td>3</td>\n",
       "      <td>3</td>\n",
       "      <td>4</td>\n",
       "      <td>4</td>\n",
       "      <td>3</td>\n",
       "      <td>3</td>\n",
       "      <td>3</td>\n",
       "      <td>0</td>\n",
       "      <td>0.0</td>\n",
       "      <td>satisfied</td>\n",
       "    </tr>\n",
       "    <tr>\n",
       "      <th>5</th>\n",
       "      <td>5</td>\n",
       "      <td>111157</td>\n",
       "      <td>Female</td>\n",
       "      <td>Loyal Customer</td>\n",
       "      <td>26</td>\n",
       "      <td>Personal Travel</td>\n",
       "      <td>Eco</td>\n",
       "      <td>1180</td>\n",
       "      <td>3</td>\n",
       "      <td>4</td>\n",
       "      <td>...</td>\n",
       "      <td>1</td>\n",
       "      <td>3</td>\n",
       "      <td>4</td>\n",
       "      <td>4</td>\n",
       "      <td>4</td>\n",
       "      <td>4</td>\n",
       "      <td>1</td>\n",
       "      <td>0</td>\n",
       "      <td>0.0</td>\n",
       "      <td>neutral or dissatisfied</td>\n",
       "    </tr>\n",
       "    <tr>\n",
       "      <th>6</th>\n",
       "      <td>6</td>\n",
       "      <td>82113</td>\n",
       "      <td>Male</td>\n",
       "      <td>Loyal Customer</td>\n",
       "      <td>47</td>\n",
       "      <td>Personal Travel</td>\n",
       "      <td>Eco</td>\n",
       "      <td>1276</td>\n",
       "      <td>2</td>\n",
       "      <td>4</td>\n",
       "      <td>...</td>\n",
       "      <td>2</td>\n",
       "      <td>3</td>\n",
       "      <td>3</td>\n",
       "      <td>4</td>\n",
       "      <td>3</td>\n",
       "      <td>5</td>\n",
       "      <td>2</td>\n",
       "      <td>9</td>\n",
       "      <td>23.0</td>\n",
       "      <td>neutral or dissatisfied</td>\n",
       "    </tr>\n",
       "    <tr>\n",
       "      <th>7</th>\n",
       "      <td>7</td>\n",
       "      <td>96462</td>\n",
       "      <td>Female</td>\n",
       "      <td>Loyal Customer</td>\n",
       "      <td>52</td>\n",
       "      <td>Business travel</td>\n",
       "      <td>Business</td>\n",
       "      <td>2035</td>\n",
       "      <td>4</td>\n",
       "      <td>3</td>\n",
       "      <td>...</td>\n",
       "      <td>5</td>\n",
       "      <td>5</td>\n",
       "      <td>5</td>\n",
       "      <td>5</td>\n",
       "      <td>4</td>\n",
       "      <td>5</td>\n",
       "      <td>4</td>\n",
       "      <td>4</td>\n",
       "      <td>0.0</td>\n",
       "      <td>satisfied</td>\n",
       "    </tr>\n",
       "    <tr>\n",
       "      <th>8</th>\n",
       "      <td>8</td>\n",
       "      <td>79485</td>\n",
       "      <td>Female</td>\n",
       "      <td>Loyal Customer</td>\n",
       "      <td>41</td>\n",
       "      <td>Business travel</td>\n",
       "      <td>Business</td>\n",
       "      <td>853</td>\n",
       "      <td>1</td>\n",
       "      <td>2</td>\n",
       "      <td>...</td>\n",
       "      <td>1</td>\n",
       "      <td>1</td>\n",
       "      <td>2</td>\n",
       "      <td>1</td>\n",
       "      <td>4</td>\n",
       "      <td>1</td>\n",
       "      <td>2</td>\n",
       "      <td>0</td>\n",
       "      <td>0.0</td>\n",
       "      <td>neutral or dissatisfied</td>\n",
       "    </tr>\n",
       "    <tr>\n",
       "      <th>9</th>\n",
       "      <td>9</td>\n",
       "      <td>65725</td>\n",
       "      <td>Male</td>\n",
       "      <td>disloyal Customer</td>\n",
       "      <td>20</td>\n",
       "      <td>Business travel</td>\n",
       "      <td>Eco</td>\n",
       "      <td>1061</td>\n",
       "      <td>3</td>\n",
       "      <td>3</td>\n",
       "      <td>...</td>\n",
       "      <td>2</td>\n",
       "      <td>2</td>\n",
       "      <td>3</td>\n",
       "      <td>4</td>\n",
       "      <td>4</td>\n",
       "      <td>3</td>\n",
       "      <td>2</td>\n",
       "      <td>0</td>\n",
       "      <td>0.0</td>\n",
       "      <td>neutral or dissatisfied</td>\n",
       "    </tr>\n",
       "  </tbody>\n",
       "</table>\n",
       "<p>10 rows × 25 columns</p>\n",
       "</div>"
      ],
      "text/plain": [
       "   Unnamed: 0      id  Gender      Customer Type  Age   Type of Travel  \\\n",
       "0           0   70172    Male     Loyal Customer   13  Personal Travel   \n",
       "1           1    5047    Male  disloyal Customer   25  Business travel   \n",
       "2           2  110028  Female     Loyal Customer   26  Business travel   \n",
       "3           3   24026  Female     Loyal Customer   25  Business travel   \n",
       "4           4  119299    Male     Loyal Customer   61  Business travel   \n",
       "5           5  111157  Female     Loyal Customer   26  Personal Travel   \n",
       "6           6   82113    Male     Loyal Customer   47  Personal Travel   \n",
       "7           7   96462  Female     Loyal Customer   52  Business travel   \n",
       "8           8   79485  Female     Loyal Customer   41  Business travel   \n",
       "9           9   65725    Male  disloyal Customer   20  Business travel   \n",
       "\n",
       "      Class  Flight Distance  Inflight wifi service  \\\n",
       "0  Eco Plus              460                      3   \n",
       "1  Business              235                      3   \n",
       "2  Business             1142                      2   \n",
       "3  Business              562                      2   \n",
       "4  Business              214                      3   \n",
       "5       Eco             1180                      3   \n",
       "6       Eco             1276                      2   \n",
       "7  Business             2035                      4   \n",
       "8  Business              853                      1   \n",
       "9       Eco             1061                      3   \n",
       "\n",
       "   Departure/Arrival time convenient  ...  Inflight entertainment  \\\n",
       "0                                  4  ...                       5   \n",
       "1                                  2  ...                       1   \n",
       "2                                  2  ...                       5   \n",
       "3                                  5  ...                       2   \n",
       "4                                  3  ...                       3   \n",
       "5                                  4  ...                       1   \n",
       "6                                  4  ...                       2   \n",
       "7                                  3  ...                       5   \n",
       "8                                  2  ...                       1   \n",
       "9                                  3  ...                       2   \n",
       "\n",
       "   On-board service  Leg room service  Baggage handling  Checkin service  \\\n",
       "0                 4                 3                 4                4   \n",
       "1                 1                 5                 3                1   \n",
       "2                 4                 3                 4                4   \n",
       "3                 2                 5                 3                1   \n",
       "4                 3                 4                 4                3   \n",
       "5                 3                 4                 4                4   \n",
       "6                 3                 3                 4                3   \n",
       "7                 5                 5                 5                4   \n",
       "8                 1                 2                 1                4   \n",
       "9                 2                 3                 4                4   \n",
       "\n",
       "   Inflight service  Cleanliness  Departure Delay in Minutes  \\\n",
       "0                 5            5                          25   \n",
       "1                 4            1                           1   \n",
       "2                 4            5                           0   \n",
       "3                 4            2                          11   \n",
       "4                 3            3                           0   \n",
       "5                 4            1                           0   \n",
       "6                 5            2                           9   \n",
       "7                 5            4                           4   \n",
       "8                 1            2                           0   \n",
       "9                 3            2                           0   \n",
       "\n",
       "   Arrival Delay in Minutes             satisfaction  \n",
       "0                      18.0  neutral or dissatisfied  \n",
       "1                       6.0  neutral or dissatisfied  \n",
       "2                       0.0                satisfied  \n",
       "3                       9.0  neutral or dissatisfied  \n",
       "4                       0.0                satisfied  \n",
       "5                       0.0  neutral or dissatisfied  \n",
       "6                      23.0  neutral or dissatisfied  \n",
       "7                       0.0                satisfied  \n",
       "8                       0.0  neutral or dissatisfied  \n",
       "9                       0.0  neutral or dissatisfied  \n",
       "\n",
       "[10 rows x 25 columns]"
      ]
     },
     "execution_count": 6,
     "metadata": {},
     "output_type": "execute_result"
    }
   ],
   "source": [
    "df.head(10)"
   ]
  },
  {
   "cell_type": "code",
   "execution_count": 7,
   "metadata": {
    "colab": {
     "base_uri": "https://localhost:8080/"
    },
    "id": "WWyZMSAycn9_",
    "outputId": "78b17ac3-fd36-4f32-afcd-802a91dee86d"
   },
   "outputs": [
    {
     "name": "stdout",
     "output_type": "stream",
     "text": [
      "La forma del dataset es (103904, 25)\n",
      "Rows duplicadas en train dataset : 0\n"
     ]
    }
   ],
   "source": [
    "print('La forma del dataset es', df.shape)\n",
    "print('Rows duplicadas en train dataset :', df.duplicated().sum() )"
   ]
  },
  {
   "cell_type": "code",
   "execution_count": 8,
   "metadata": {
    "colab": {
     "base_uri": "https://localhost:8080/"
    },
    "id": "o8odWJb8c1C9",
    "outputId": "4192ef3b-1f59-4dd9-ea73-4e624dd11b8f"
   },
   "outputs": [
    {
     "name": "stdout",
     "output_type": "stream",
     "text": [
      "<class 'pandas.core.frame.DataFrame'>\n",
      "RangeIndex: 103904 entries, 0 to 103903\n",
      "Data columns (total 25 columns):\n",
      " #   Column                             Non-Null Count   Dtype  \n",
      "---  ------                             --------------   -----  \n",
      " 0   Unnamed: 0                         103904 non-null  int64  \n",
      " 1   id                                 103904 non-null  int64  \n",
      " 2   Gender                             103904 non-null  object \n",
      " 3   Customer Type                      103904 non-null  object \n",
      " 4   Age                                103904 non-null  int64  \n",
      " 5   Type of Travel                     103904 non-null  object \n",
      " 6   Class                              103904 non-null  object \n",
      " 7   Flight Distance                    103904 non-null  int64  \n",
      " 8   Inflight wifi service              103904 non-null  int64  \n",
      " 9   Departure/Arrival time convenient  103904 non-null  int64  \n",
      " 10  Ease of Online booking             103904 non-null  int64  \n",
      " 11  Gate location                      103904 non-null  int64  \n",
      " 12  Food and drink                     103904 non-null  int64  \n",
      " 13  Online boarding                    103904 non-null  int64  \n",
      " 14  Seat comfort                       103904 non-null  int64  \n",
      " 15  Inflight entertainment             103904 non-null  int64  \n",
      " 16  On-board service                   103904 non-null  int64  \n",
      " 17  Leg room service                   103904 non-null  int64  \n",
      " 18  Baggage handling                   103904 non-null  int64  \n",
      " 19  Checkin service                    103904 non-null  int64  \n",
      " 20  Inflight service                   103904 non-null  int64  \n",
      " 21  Cleanliness                        103904 non-null  int64  \n",
      " 22  Departure Delay in Minutes         103904 non-null  int64  \n",
      " 23  Arrival Delay in Minutes           103594 non-null  float64\n",
      " 24  satisfaction                       103904 non-null  object \n",
      "dtypes: float64(1), int64(19), object(5)\n",
      "memory usage: 19.8+ MB\n"
     ]
    }
   ],
   "source": [
    "df.info()"
   ]
  },
  {
   "cell_type": "code",
   "execution_count": 6,
   "metadata": {
    "id": "ErfiDC7idVFk"
   },
   "outputs": [
    {
     "ename": "ModuleNotFoundError",
     "evalue": "No module named 'pkg_resources'",
     "output_type": "error",
     "traceback": [
      "\u001b[31m---------------------------------------------------------------------------\u001b[39m",
      "\u001b[31mModuleNotFoundError\u001b[39m                       Traceback (most recent call last)",
      "\u001b[36mCell\u001b[39m\u001b[36m \u001b[39m\u001b[32mIn[6]\u001b[39m\u001b[32m, line 1\u001b[39m\n\u001b[32m----> \u001b[39m\u001b[32m1\u001b[39m \u001b[38;5;28;01mfrom\u001b[39;00m\u001b[38;5;250m \u001b[39m\u001b[34;01mydata_profiling\u001b[39;00m\u001b[38;5;250m \u001b[39m\u001b[38;5;28;01mimport\u001b[39;00m ProfileReport\n\u001b[32m      2\u001b[39m \u001b[38;5;28;01mfrom\u001b[39;00m\u001b[38;5;250m \u001b[39m\u001b[34;01mIPython\u001b[39;00m\u001b[34;01m.\u001b[39;00m\u001b[34;01mdisplay\u001b[39;00m\u001b[38;5;250m \u001b[39m\u001b[38;5;28;01mimport\u001b[39;00m HTML \u001b[38;5;66;03m# import the HTML object\u001b[39;00m\n",
      "\u001b[36mFile \u001b[39m\u001b[32mc:\\Users\\Nhoeli\\Desktop\\Bootcamp_IA\\proyecto_seis\\flight-feel-analyzer\\.venv\\Lib\\site-packages\\ydata_profiling\\__init__.py:10\u001b[39m\n\u001b[32m      6\u001b[39m \u001b[38;5;28;01mimport\u001b[39;00m\u001b[38;5;250m \u001b[39m\u001b[34;01mwarnings\u001b[39;00m  \u001b[38;5;66;03m# isort:skip # noqa\u001b[39;00m\n\u001b[32m      8\u001b[39m \u001b[38;5;28;01mimport\u001b[39;00m\u001b[38;5;250m \u001b[39m\u001b[34;01mimportlib\u001b[39;00m\u001b[34;01m.\u001b[39;00m\u001b[34;01mutil\u001b[39;00m  \u001b[38;5;66;03m# isort:skip # noqa\u001b[39;00m\n\u001b[32m---> \u001b[39m\u001b[32m10\u001b[39m \u001b[38;5;28;01mfrom\u001b[39;00m\u001b[38;5;250m \u001b[39m\u001b[34;01mydata_profiling\u001b[39;00m\u001b[34;01m.\u001b[39;00m\u001b[34;01mcompare_reports\u001b[39;00m\u001b[38;5;250m \u001b[39m\u001b[38;5;28;01mimport\u001b[39;00m compare  \u001b[38;5;66;03m# isort:skip # noqa\u001b[39;00m\n\u001b[32m     11\u001b[39m \u001b[38;5;28;01mfrom\u001b[39;00m\u001b[38;5;250m \u001b[39m\u001b[34;01mydata_profiling\u001b[39;00m\u001b[34;01m.\u001b[39;00m\u001b[34;01mcontroller\u001b[39;00m\u001b[38;5;250m \u001b[39m\u001b[38;5;28;01mimport\u001b[39;00m pandas_decorator  \u001b[38;5;66;03m# isort:skip # noqa\u001b[39;00m\n\u001b[32m     12\u001b[39m \u001b[38;5;28;01mfrom\u001b[39;00m\u001b[38;5;250m \u001b[39m\u001b[34;01mydata_profiling\u001b[39;00m\u001b[34;01m.\u001b[39;00m\u001b[34;01mprofile_report\u001b[39;00m\u001b[38;5;250m \u001b[39m\u001b[38;5;28;01mimport\u001b[39;00m ProfileReport  \u001b[38;5;66;03m# isort:skip # noqa\u001b[39;00m\n",
      "\u001b[36mFile \u001b[39m\u001b[32mc:\\Users\\Nhoeli\\Desktop\\Bootcamp_IA\\proyecto_seis\\flight-feel-analyzer\\.venv\\Lib\\site-packages\\ydata_profiling\\compare_reports.py:12\u001b[39m\n\u001b[32m     10\u001b[39m \u001b[38;5;28;01mfrom\u001b[39;00m\u001b[38;5;250m \u001b[39m\u001b[34;01mydata_profiling\u001b[39;00m\u001b[34;01m.\u001b[39;00m\u001b[34;01mmodel\u001b[39;00m\u001b[38;5;250m \u001b[39m\u001b[38;5;28;01mimport\u001b[39;00m BaseDescription\n\u001b[32m     11\u001b[39m \u001b[38;5;28;01mfrom\u001b[39;00m\u001b[38;5;250m \u001b[39m\u001b[34;01mydata_profiling\u001b[39;00m\u001b[34;01m.\u001b[39;00m\u001b[34;01mmodel\u001b[39;00m\u001b[34;01m.\u001b[39;00m\u001b[34;01malerts\u001b[39;00m\u001b[38;5;250m \u001b[39m\u001b[38;5;28;01mimport\u001b[39;00m Alert\n\u001b[32m---> \u001b[39m\u001b[32m12\u001b[39m \u001b[38;5;28;01mfrom\u001b[39;00m\u001b[38;5;250m \u001b[39m\u001b[34;01mydata_profiling\u001b[39;00m\u001b[34;01m.\u001b[39;00m\u001b[34;01mprofile_report\u001b[39;00m\u001b[38;5;250m \u001b[39m\u001b[38;5;28;01mimport\u001b[39;00m ProfileReport\n\u001b[32m     15\u001b[39m \u001b[38;5;28;01mdef\u001b[39;00m\u001b[38;5;250m \u001b[39m\u001b[34m_should_wrap\u001b[39m(v1: Any, v2: Any) -> \u001b[38;5;28mbool\u001b[39m:\n\u001b[32m     16\u001b[39m     \u001b[38;5;28;01mif\u001b[39;00m \u001b[38;5;28misinstance\u001b[39m(v1, (\u001b[38;5;28mlist\u001b[39m, \u001b[38;5;28mdict\u001b[39m)):\n",
      "\u001b[36mFile \u001b[39m\u001b[32mc:\\Users\\Nhoeli\\Desktop\\Bootcamp_IA\\proyecto_seis\\flight-feel-analyzer\\.venv\\Lib\\site-packages\\ydata_profiling\\profile_report.py:11\u001b[39m\n\u001b[32m      9\u001b[39m \u001b[38;5;28;01mwith\u001b[39;00m warnings.catch_warnings():\n\u001b[32m     10\u001b[39m     warnings.simplefilter(\u001b[33m\"\u001b[39m\u001b[33mignore\u001b[39m\u001b[33m\"\u001b[39m)\n\u001b[32m---> \u001b[39m\u001b[32m11\u001b[39m     \u001b[38;5;28;01mimport\u001b[39;00m\u001b[38;5;250m \u001b[39m\u001b[34;01mpkg_resources\u001b[39;00m\n\u001b[32m     13\u001b[39m \u001b[38;5;28;01mif\u001b[39;00m \u001b[38;5;129;01mnot\u001b[39;00m is_pyspark_installed():\n\u001b[32m     14\u001b[39m     \u001b[38;5;28;01mfrom\u001b[39;00m\u001b[38;5;250m \u001b[39m\u001b[34;01mtyping\u001b[39;00m\u001b[38;5;250m \u001b[39m\u001b[38;5;28;01mimport\u001b[39;00m TypeVar\n",
      "\u001b[31mModuleNotFoundError\u001b[39m: No module named 'pkg_resources'"
     ]
    }
   ],
   "source": [
    "from ydata_profiling import ProfileReport\n",
    "from IPython.display import HTML # import the HTML object"
   ]
  },
  {
   "cell_type": "code",
   "execution_count": 19,
   "metadata": {
    "colab": {
     "base_uri": "https://localhost:8080/",
     "height": 1000,
     "referenced_widgets": [
      "8a1a0bb975c642a98f3b09ebd345f9dc",
      "590e34e3028345f99265d0a0f393d2d2",
      "55e04635e3294350be216c2d94441ad5",
      "d9e1250839e6470a87b52309dbe872cc",
      "5787676cae5640f4bedd6dad416d78a1",
      "2537ef71a2b848f39827516a8294d000",
      "4f45a88f271d4b818ee95350d64afd64",
      "ed06bfccfc414a79b891dedc606ff264",
      "7a13830db0a141aaab284ffb979fe924",
      "aaa680a08f994fb598bdb31b3debd513",
      "fa941220df444acdb7999a6c7e285fd9",
      "514e3f3c1c754e139663406a32c2e7d1",
      "7283b0688c414e34b65571732ce7ccfd",
      "f7945ec8027b46d5a6a095d63033ab33",
      "fc0a5b49ab65466a88fc850fce804780",
      "a968ec5f826840a6b50b42ef66c8bccc",
      "f432feb7a7084f8eb0150609e5ceb987",
      "28cbec87c56e483ab6e55ed8092a4b2e",
      "be0b578060f049fd993eecdb61578b7e",
      "28f147aa7d0340238ff204a8d35a7db9",
      "1af028b59c234e67802a707c8c49de4d",
      "82f1702b6dbb4c53bcf40bd26bc28865",
      "6432d0e4c2e147eb98a72e3c695d1cba",
      "52a58bfad34f44e1bf31a91006eee169",
      "329495ddd9bc43b7a4922b44066e567c",
      "c0522db855c14e118fedc0de8ae28ba8",
      "5c1e6d16605b4eaaa201b68157fddaa9",
      "7817a859df844240ada345322032e590",
      "5ed3b07887ca44d895afbd3161eb795d",
      "72e52d1654454f5fae725df7a4ba43be",
      "14b80f42ce64461886ce5a4f96569445",
      "483b487de3e94dbdac553116f567af14",
      "79fc6e08756141e194989e6453c78966",
      "4b930d1f6a724a3faa105abece295f7e",
      "bb1cf99d2fe4496cbe81f86f2c3d6890",
      "eb343acd8e3a4bccb8217d70e11dcc48",
      "2ebcbd15472b4910a59746558413f007",
      "6cd363593b4a472291b65b44059c624b",
      "3b1b82cff80b4fae84beec9807e3c1b3",
      "27b843a4a8234846b55912b3e26e00b2",
      "95120b9be5a8445f82c15b1c52bea21c",
      "767eb207063849bf954138a1fe08b485",
      "7d61849d205047c5ba4344d5d2380e30",
      "59d71531ef624c3698a13d2857c0e45e"
     ]
    },
    "id": "RiC-o-V8dhDL",
    "outputId": "e5f25fc8-23cd-4460-ab84-c04ef54a01d8"
   },
   "outputs": [
    {
     "ename": "NameError",
     "evalue": "name 'ProfileReport' is not defined",
     "output_type": "error",
     "traceback": [
      "\u001b[31m---------------------------------------------------------------------------\u001b[39m",
      "\u001b[31mNameError\u001b[39m                                 Traceback (most recent call last)",
      "\u001b[36mCell\u001b[39m\u001b[36m \u001b[39m\u001b[32mIn[19]\u001b[39m\u001b[32m, line 1\u001b[39m\n\u001b[32m----> \u001b[39m\u001b[32m1\u001b[39m profile_change = \u001b[43mProfileReport\u001b[49m(df,title=\u001b[33m\"\u001b[39m\u001b[33mAirlines Satisfaction. Profiling Report\u001b[39m\u001b[33m\"\u001b[39m, explorative=\u001b[38;5;28;01mTrue\u001b[39;00m,)\n\u001b[32m      2\u001b[39m profile_change.to_file(\u001b[33m\"\u001b[39m\u001b[33moutput_change.html\u001b[39m\u001b[33m\"\u001b[39m)\n\u001b[32m      3\u001b[39m HTML(filename=\u001b[33m'\u001b[39m\u001b[33moutput_change.html\u001b[39m\u001b[33m'\u001b[39m)\n",
      "\u001b[31mNameError\u001b[39m: name 'ProfileReport' is not defined"
     ]
    }
   ],
   "source": [
    "profile_change = ProfileReport(df,title=\"Airlines Satisfaction. Profiling Report\", explorative=True,)\n",
    "profile_change.to_file(\"output_change.html\")\n",
    "HTML(filename='output_change.html')"
   ]
  },
  {
   "cell_type": "code",
   "execution_count": 7,
   "metadata": {
    "colab": {
     "base_uri": "https://localhost:8080/",
     "height": 355
    },
    "id": "Wl3honDRp1pc",
    "outputId": "ddd0e4a3-55fb-48e1-ddfd-f2214c883b44"
   },
   "outputs": [
    {
     "data": {
      "application/vnd.microsoft.datawrangler.viewer.v0+json": {
       "columns": [
        {
         "name": "index",
         "rawType": "object",
         "type": "string"
        },
        {
         "name": "Unnamed: 0",
         "rawType": "float64",
         "type": "float"
        },
        {
         "name": "id",
         "rawType": "float64",
         "type": "float"
        },
        {
         "name": "Age",
         "rawType": "float64",
         "type": "float"
        },
        {
         "name": "Flight Distance",
         "rawType": "float64",
         "type": "float"
        },
        {
         "name": "Inflight wifi service",
         "rawType": "float64",
         "type": "float"
        },
        {
         "name": "Departure/Arrival time convenient",
         "rawType": "float64",
         "type": "float"
        },
        {
         "name": "Ease of Online booking",
         "rawType": "float64",
         "type": "float"
        },
        {
         "name": "Gate location",
         "rawType": "float64",
         "type": "float"
        },
        {
         "name": "Food and drink",
         "rawType": "float64",
         "type": "float"
        },
        {
         "name": "Online boarding",
         "rawType": "float64",
         "type": "float"
        },
        {
         "name": "Seat comfort",
         "rawType": "float64",
         "type": "float"
        },
        {
         "name": "Inflight entertainment",
         "rawType": "float64",
         "type": "float"
        },
        {
         "name": "On-board service",
         "rawType": "float64",
         "type": "float"
        },
        {
         "name": "Leg room service",
         "rawType": "float64",
         "type": "float"
        },
        {
         "name": "Baggage handling",
         "rawType": "float64",
         "type": "float"
        },
        {
         "name": "Checkin service",
         "rawType": "float64",
         "type": "float"
        },
        {
         "name": "Inflight service",
         "rawType": "float64",
         "type": "float"
        },
        {
         "name": "Cleanliness",
         "rawType": "float64",
         "type": "float"
        },
        {
         "name": "Departure Delay in Minutes",
         "rawType": "float64",
         "type": "float"
        },
        {
         "name": "Arrival Delay in Minutes",
         "rawType": "float64",
         "type": "float"
        }
       ],
       "conversionMethod": "pd.DataFrame",
       "ref": "ba0891cd-6405-4b3f-8940-e15a11e70bcb",
       "rows": [
        [
         "count",
         "103904.0",
         "103904.0",
         "103904.0",
         "103904.0",
         "103904.0",
         "103904.0",
         "103904.0",
         "103904.0",
         "103904.0",
         "103904.0",
         "103904.0",
         "103904.0",
         "103904.0",
         "103904.0",
         "103904.0",
         "103904.0",
         "103904.0",
         "103904.0",
         "103904.0",
         "103594.0"
        ],
        [
         "mean",
         "51951.5",
         "64924.21050200185",
         "39.379706267323684",
         "1189.4483754234677",
         "2.72968316907915",
         "3.06029604250077",
         "2.7569006005543577",
         "2.9768825069294733",
         "3.2021288882044963",
         "3.250375346473668",
         "3.4393959809054513",
         "3.358157530027718",
         "3.382362565445026",
         "3.3510548198336925",
         "3.6318332306744687",
         "3.304290498922082",
         "3.6404277024946103",
         "3.2863508623344626",
         "14.815618263012011",
         "15.178678301832152"
        ],
        [
         "std",
         "29994.64552215945",
         "37463.81225155132",
         "15.114963699737824",
         "997.1472805289596",
         "1.327829471236222",
         "1.5250751972834675",
         "1.398929472659161",
         "1.277621010300239",
         "1.329532710858209",
         "1.3495089537133296",
         "1.3190875186173407",
         "1.3329907146271214",
         "1.2883543609017813",
         "1.3156046193255744",
         "1.180903411075977",
         "1.2653958269270793",
         "1.1756630338758918",
         "1.3122728470665304",
         "38.230900584141835",
         "38.69868202096663"
        ],
        [
         "min",
         "0.0",
         "1.0",
         "7.0",
         "31.0",
         "0.0",
         "0.0",
         "0.0",
         "0.0",
         "0.0",
         "0.0",
         "0.0",
         "0.0",
         "0.0",
         "0.0",
         "1.0",
         "0.0",
         "0.0",
         "0.0",
         "0.0",
         "0.0"
        ],
        [
         "25%",
         "25975.75",
         "32533.75",
         "27.0",
         "414.0",
         "2.0",
         "2.0",
         "2.0",
         "2.0",
         "2.0",
         "2.0",
         "2.0",
         "2.0",
         "2.0",
         "2.0",
         "3.0",
         "3.0",
         "3.0",
         "2.0",
         "0.0",
         "0.0"
        ],
        [
         "50%",
         "51951.5",
         "64856.5",
         "40.0",
         "843.0",
         "3.0",
         "3.0",
         "3.0",
         "3.0",
         "3.0",
         "3.0",
         "4.0",
         "4.0",
         "4.0",
         "4.0",
         "4.0",
         "3.0",
         "4.0",
         "3.0",
         "0.0",
         "0.0"
        ],
        [
         "75%",
         "77927.25",
         "97368.25",
         "51.0",
         "1743.0",
         "4.0",
         "4.0",
         "4.0",
         "4.0",
         "4.0",
         "4.0",
         "5.0",
         "4.0",
         "4.0",
         "4.0",
         "5.0",
         "4.0",
         "5.0",
         "4.0",
         "12.0",
         "13.0"
        ],
        [
         "max",
         "103903.0",
         "129880.0",
         "85.0",
         "4983.0",
         "5.0",
         "5.0",
         "5.0",
         "5.0",
         "5.0",
         "5.0",
         "5.0",
         "5.0",
         "5.0",
         "5.0",
         "5.0",
         "5.0",
         "5.0",
         "5.0",
         "1592.0",
         "1584.0"
        ]
       ],
       "shape": {
        "columns": 20,
        "rows": 8
       }
      },
      "text/html": [
       "<div>\n",
       "<style scoped>\n",
       "    .dataframe tbody tr th:only-of-type {\n",
       "        vertical-align: middle;\n",
       "    }\n",
       "\n",
       "    .dataframe tbody tr th {\n",
       "        vertical-align: top;\n",
       "    }\n",
       "\n",
       "    .dataframe thead th {\n",
       "        text-align: right;\n",
       "    }\n",
       "</style>\n",
       "<table border=\"1\" class=\"dataframe\">\n",
       "  <thead>\n",
       "    <tr style=\"text-align: right;\">\n",
       "      <th></th>\n",
       "      <th>Unnamed: 0</th>\n",
       "      <th>id</th>\n",
       "      <th>Age</th>\n",
       "      <th>Flight Distance</th>\n",
       "      <th>Inflight wifi service</th>\n",
       "      <th>Departure/Arrival time convenient</th>\n",
       "      <th>Ease of Online booking</th>\n",
       "      <th>Gate location</th>\n",
       "      <th>Food and drink</th>\n",
       "      <th>Online boarding</th>\n",
       "      <th>Seat comfort</th>\n",
       "      <th>Inflight entertainment</th>\n",
       "      <th>On-board service</th>\n",
       "      <th>Leg room service</th>\n",
       "      <th>Baggage handling</th>\n",
       "      <th>Checkin service</th>\n",
       "      <th>Inflight service</th>\n",
       "      <th>Cleanliness</th>\n",
       "      <th>Departure Delay in Minutes</th>\n",
       "      <th>Arrival Delay in Minutes</th>\n",
       "    </tr>\n",
       "  </thead>\n",
       "  <tbody>\n",
       "    <tr>\n",
       "      <th>count</th>\n",
       "      <td>103904.000000</td>\n",
       "      <td>103904.000000</td>\n",
       "      <td>103904.000000</td>\n",
       "      <td>103904.000000</td>\n",
       "      <td>103904.000000</td>\n",
       "      <td>103904.000000</td>\n",
       "      <td>103904.000000</td>\n",
       "      <td>103904.000000</td>\n",
       "      <td>103904.000000</td>\n",
       "      <td>103904.000000</td>\n",
       "      <td>103904.000000</td>\n",
       "      <td>103904.000000</td>\n",
       "      <td>103904.000000</td>\n",
       "      <td>103904.000000</td>\n",
       "      <td>103904.000000</td>\n",
       "      <td>103904.000000</td>\n",
       "      <td>103904.000000</td>\n",
       "      <td>103904.000000</td>\n",
       "      <td>103904.000000</td>\n",
       "      <td>103594.000000</td>\n",
       "    </tr>\n",
       "    <tr>\n",
       "      <th>mean</th>\n",
       "      <td>51951.500000</td>\n",
       "      <td>64924.210502</td>\n",
       "      <td>39.379706</td>\n",
       "      <td>1189.448375</td>\n",
       "      <td>2.729683</td>\n",
       "      <td>3.060296</td>\n",
       "      <td>2.756901</td>\n",
       "      <td>2.976883</td>\n",
       "      <td>3.202129</td>\n",
       "      <td>3.250375</td>\n",
       "      <td>3.439396</td>\n",
       "      <td>3.358158</td>\n",
       "      <td>3.382363</td>\n",
       "      <td>3.351055</td>\n",
       "      <td>3.631833</td>\n",
       "      <td>3.304290</td>\n",
       "      <td>3.640428</td>\n",
       "      <td>3.286351</td>\n",
       "      <td>14.815618</td>\n",
       "      <td>15.178678</td>\n",
       "    </tr>\n",
       "    <tr>\n",
       "      <th>std</th>\n",
       "      <td>29994.645522</td>\n",
       "      <td>37463.812252</td>\n",
       "      <td>15.114964</td>\n",
       "      <td>997.147281</td>\n",
       "      <td>1.327829</td>\n",
       "      <td>1.525075</td>\n",
       "      <td>1.398929</td>\n",
       "      <td>1.277621</td>\n",
       "      <td>1.329533</td>\n",
       "      <td>1.349509</td>\n",
       "      <td>1.319088</td>\n",
       "      <td>1.332991</td>\n",
       "      <td>1.288354</td>\n",
       "      <td>1.315605</td>\n",
       "      <td>1.180903</td>\n",
       "      <td>1.265396</td>\n",
       "      <td>1.175663</td>\n",
       "      <td>1.312273</td>\n",
       "      <td>38.230901</td>\n",
       "      <td>38.698682</td>\n",
       "    </tr>\n",
       "    <tr>\n",
       "      <th>min</th>\n",
       "      <td>0.000000</td>\n",
       "      <td>1.000000</td>\n",
       "      <td>7.000000</td>\n",
       "      <td>31.000000</td>\n",
       "      <td>0.000000</td>\n",
       "      <td>0.000000</td>\n",
       "      <td>0.000000</td>\n",
       "      <td>0.000000</td>\n",
       "      <td>0.000000</td>\n",
       "      <td>0.000000</td>\n",
       "      <td>0.000000</td>\n",
       "      <td>0.000000</td>\n",
       "      <td>0.000000</td>\n",
       "      <td>0.000000</td>\n",
       "      <td>1.000000</td>\n",
       "      <td>0.000000</td>\n",
       "      <td>0.000000</td>\n",
       "      <td>0.000000</td>\n",
       "      <td>0.000000</td>\n",
       "      <td>0.000000</td>\n",
       "    </tr>\n",
       "    <tr>\n",
       "      <th>25%</th>\n",
       "      <td>25975.750000</td>\n",
       "      <td>32533.750000</td>\n",
       "      <td>27.000000</td>\n",
       "      <td>414.000000</td>\n",
       "      <td>2.000000</td>\n",
       "      <td>2.000000</td>\n",
       "      <td>2.000000</td>\n",
       "      <td>2.000000</td>\n",
       "      <td>2.000000</td>\n",
       "      <td>2.000000</td>\n",
       "      <td>2.000000</td>\n",
       "      <td>2.000000</td>\n",
       "      <td>2.000000</td>\n",
       "      <td>2.000000</td>\n",
       "      <td>3.000000</td>\n",
       "      <td>3.000000</td>\n",
       "      <td>3.000000</td>\n",
       "      <td>2.000000</td>\n",
       "      <td>0.000000</td>\n",
       "      <td>0.000000</td>\n",
       "    </tr>\n",
       "    <tr>\n",
       "      <th>50%</th>\n",
       "      <td>51951.500000</td>\n",
       "      <td>64856.500000</td>\n",
       "      <td>40.000000</td>\n",
       "      <td>843.000000</td>\n",
       "      <td>3.000000</td>\n",
       "      <td>3.000000</td>\n",
       "      <td>3.000000</td>\n",
       "      <td>3.000000</td>\n",
       "      <td>3.000000</td>\n",
       "      <td>3.000000</td>\n",
       "      <td>4.000000</td>\n",
       "      <td>4.000000</td>\n",
       "      <td>4.000000</td>\n",
       "      <td>4.000000</td>\n",
       "      <td>4.000000</td>\n",
       "      <td>3.000000</td>\n",
       "      <td>4.000000</td>\n",
       "      <td>3.000000</td>\n",
       "      <td>0.000000</td>\n",
       "      <td>0.000000</td>\n",
       "    </tr>\n",
       "    <tr>\n",
       "      <th>75%</th>\n",
       "      <td>77927.250000</td>\n",
       "      <td>97368.250000</td>\n",
       "      <td>51.000000</td>\n",
       "      <td>1743.000000</td>\n",
       "      <td>4.000000</td>\n",
       "      <td>4.000000</td>\n",
       "      <td>4.000000</td>\n",
       "      <td>4.000000</td>\n",
       "      <td>4.000000</td>\n",
       "      <td>4.000000</td>\n",
       "      <td>5.000000</td>\n",
       "      <td>4.000000</td>\n",
       "      <td>4.000000</td>\n",
       "      <td>4.000000</td>\n",
       "      <td>5.000000</td>\n",
       "      <td>4.000000</td>\n",
       "      <td>5.000000</td>\n",
       "      <td>4.000000</td>\n",
       "      <td>12.000000</td>\n",
       "      <td>13.000000</td>\n",
       "    </tr>\n",
       "    <tr>\n",
       "      <th>max</th>\n",
       "      <td>103903.000000</td>\n",
       "      <td>129880.000000</td>\n",
       "      <td>85.000000</td>\n",
       "      <td>4983.000000</td>\n",
       "      <td>5.000000</td>\n",
       "      <td>5.000000</td>\n",
       "      <td>5.000000</td>\n",
       "      <td>5.000000</td>\n",
       "      <td>5.000000</td>\n",
       "      <td>5.000000</td>\n",
       "      <td>5.000000</td>\n",
       "      <td>5.000000</td>\n",
       "      <td>5.000000</td>\n",
       "      <td>5.000000</td>\n",
       "      <td>5.000000</td>\n",
       "      <td>5.000000</td>\n",
       "      <td>5.000000</td>\n",
       "      <td>5.000000</td>\n",
       "      <td>1592.000000</td>\n",
       "      <td>1584.000000</td>\n",
       "    </tr>\n",
       "  </tbody>\n",
       "</table>\n",
       "</div>"
      ],
      "text/plain": [
       "          Unnamed: 0             id            Age  Flight Distance  \\\n",
       "count  103904.000000  103904.000000  103904.000000    103904.000000   \n",
       "mean    51951.500000   64924.210502      39.379706      1189.448375   \n",
       "std     29994.645522   37463.812252      15.114964       997.147281   \n",
       "min         0.000000       1.000000       7.000000        31.000000   \n",
       "25%     25975.750000   32533.750000      27.000000       414.000000   \n",
       "50%     51951.500000   64856.500000      40.000000       843.000000   \n",
       "75%     77927.250000   97368.250000      51.000000      1743.000000   \n",
       "max    103903.000000  129880.000000      85.000000      4983.000000   \n",
       "\n",
       "       Inflight wifi service  Departure/Arrival time convenient  \\\n",
       "count          103904.000000                      103904.000000   \n",
       "mean                2.729683                           3.060296   \n",
       "std                 1.327829                           1.525075   \n",
       "min                 0.000000                           0.000000   \n",
       "25%                 2.000000                           2.000000   \n",
       "50%                 3.000000                           3.000000   \n",
       "75%                 4.000000                           4.000000   \n",
       "max                 5.000000                           5.000000   \n",
       "\n",
       "       Ease of Online booking  Gate location  Food and drink  Online boarding  \\\n",
       "count           103904.000000  103904.000000   103904.000000    103904.000000   \n",
       "mean                 2.756901       2.976883        3.202129         3.250375   \n",
       "std                  1.398929       1.277621        1.329533         1.349509   \n",
       "min                  0.000000       0.000000        0.000000         0.000000   \n",
       "25%                  2.000000       2.000000        2.000000         2.000000   \n",
       "50%                  3.000000       3.000000        3.000000         3.000000   \n",
       "75%                  4.000000       4.000000        4.000000         4.000000   \n",
       "max                  5.000000       5.000000        5.000000         5.000000   \n",
       "\n",
       "        Seat comfort  Inflight entertainment  On-board service  \\\n",
       "count  103904.000000           103904.000000     103904.000000   \n",
       "mean        3.439396                3.358158          3.382363   \n",
       "std         1.319088                1.332991          1.288354   \n",
       "min         0.000000                0.000000          0.000000   \n",
       "25%         2.000000                2.000000          2.000000   \n",
       "50%         4.000000                4.000000          4.000000   \n",
       "75%         5.000000                4.000000          4.000000   \n",
       "max         5.000000                5.000000          5.000000   \n",
       "\n",
       "       Leg room service  Baggage handling  Checkin service  Inflight service  \\\n",
       "count     103904.000000     103904.000000    103904.000000     103904.000000   \n",
       "mean           3.351055          3.631833         3.304290          3.640428   \n",
       "std            1.315605          1.180903         1.265396          1.175663   \n",
       "min            0.000000          1.000000         0.000000          0.000000   \n",
       "25%            2.000000          3.000000         3.000000          3.000000   \n",
       "50%            4.000000          4.000000         3.000000          4.000000   \n",
       "75%            4.000000          5.000000         4.000000          5.000000   \n",
       "max            5.000000          5.000000         5.000000          5.000000   \n",
       "\n",
       "         Cleanliness  Departure Delay in Minutes  Arrival Delay in Minutes  \n",
       "count  103904.000000               103904.000000             103594.000000  \n",
       "mean        3.286351                   14.815618                 15.178678  \n",
       "std         1.312273                   38.230901                 38.698682  \n",
       "min         0.000000                    0.000000                  0.000000  \n",
       "25%         2.000000                    0.000000                  0.000000  \n",
       "50%         3.000000                    0.000000                  0.000000  \n",
       "75%         4.000000                   12.000000                 13.000000  \n",
       "max         5.000000                 1592.000000               1584.000000  "
      ]
     },
     "execution_count": 7,
     "metadata": {},
     "output_type": "execute_result"
    }
   ],
   "source": [
    "df.describe()"
   ]
  },
  {
   "cell_type": "markdown",
   "metadata": {
    "id": "R3Wj5JwUmdWK"
   },
   "source": [
    "## Limpieza"
   ]
  },
  {
   "cell_type": "code",
   "execution_count": 8,
   "metadata": {
    "id": "YjcugXXlmM3l"
   },
   "outputs": [],
   "source": [
    "df = df.drop(df.iloc[:,[0, 1]], axis = 1)"
   ]
  },
  {
   "cell_type": "markdown",
   "metadata": {
    "id": "KXnqVb5SoeCk"
   },
   "source": [
    "Aqui borramos las primeras 2 columnas (unnamed y id) porque no aportan valor"
   ]
  },
  {
   "cell_type": "markdown",
   "metadata": {
    "id": "wDaQRk6Yqe_k"
   },
   "source": [
    "### Missing values"
   ]
  },
  {
   "cell_type": "code",
   "execution_count": 9,
   "metadata": {
    "colab": {
     "base_uri": "https://localhost:8080/"
    },
    "id": "Y2LnXPZ7toLQ",
    "outputId": "be789f02-415e-4663-ee22-1861f7cf70b6"
   },
   "outputs": [
    {
     "name": "stdout",
     "output_type": "stream",
     "text": [
      "Arrival Delay in Minutes             1.000000\n",
      "Departure Delay in Minutes           0.965481\n",
      "Leg room service                     0.011843\n",
      "Gate location                        0.005143\n",
      "Departure/Arrival time convenient   -0.000864\n",
      "Flight Distance                     -0.002426\n",
      "Ease of Online booking              -0.007984\n",
      "Baggage handling                    -0.008542\n",
      "Age                                 -0.012147\n",
      "Cleanliness                         -0.015774\n",
      "Inflight wifi service               -0.019095\n",
      "Checkin service                     -0.020369\n",
      "Online boarding                     -0.021949\n",
      "Seat comfort                        -0.029900\n",
      "Inflight entertainment              -0.030703\n",
      "Food and drink                      -0.032524\n",
      "On-board service                    -0.035227\n",
      "Inflight service                    -0.059196\n",
      "Name: Arrival Delay in Minutes, dtype: float64\n"
     ]
    }
   ],
   "source": [
    "correlation_arrival = df.corr(numeric_only=True)['Arrival Delay in Minutes'].sort_values(ascending=False)\n",
    "print(correlation_arrival)"
   ]
  },
  {
   "cell_type": "markdown",
   "metadata": {
    "id": "FY4LYVWholsG"
   },
   "source": [
    "Vemos la relación que tiene la variable con missing data (Arrival Delay in Minutes) con otras"
   ]
  },
  {
   "cell_type": "code",
   "execution_count": 10,
   "metadata": {
    "colab": {
     "base_uri": "https://localhost:8080/",
     "height": 430
    },
    "id": "g9d3UZoAqT_B",
    "outputId": "a50d22e0-650d-4949-b57f-c4e2d55e3050"
   },
   "outputs": [
    {
     "data": {
      "image/png": "[encoded data removed]",
      "text/plain": [
       "<Figure size 640x480 with 1 Axes>"
      ]
     },
     "metadata": {},
     "output_type": "display_data"
    }
   ],
   "source": [
    "plt.scatter(df['Arrival Delay in Minutes'], df['Departure Delay in Minutes'], alpha = 0.5)\n",
    "pass"
   ]
  },
  {
   "cell_type": "code",
   "execution_count": 11,
   "metadata": {
    "id": "FDP55vRWxs3j"
   },
   "outputs": [],
   "source": [
    "from sklearn.linear_model import LinearRegression\n",
    "\n",
    "# Separar los datos donde no hay NaN (para entrenar el modelo)\n",
    "train_data = df.dropna(subset=['Arrival Delay in Minutes'])\n",
    "X_train = train_data[['Departure Delay in Minutes']]\n",
    "y_train = train_data['Arrival Delay in Minutes']\n",
    "\n",
    "# Entrenar modelo lineal\n",
    "model = LinearRegression()\n",
    "model.fit(X_train, y_train)\n",
    "\n",
    "# Predecir los valores faltantes\n",
    "missing_mask = df['Arrival Delay in Minutes'].isnull()\n",
    "X_missing = df.loc[missing_mask, ['Departure Delay in Minutes']]\n",
    "df.loc[missing_mask, 'Arrival Delay in Minutes'] = model.predict(X_missing)\n"
   ]
  },
  {
   "cell_type": "markdown",
   "metadata": {
    "id": "vDE0CwsXo4hS"
   },
   "source": [
    "Imputamos los datos faltantes con una regresión lineal tomando como la variable predictora el Departure Delay in Minutes que es la que tiene una correlación de casi 0,97."
   ]
  },
  {
   "cell_type": "code",
   "execution_count": 12,
   "metadata": {
    "colab": {
     "base_uri": "https://localhost:8080/",
     "height": 805
    },
    "id": "-4nA5O6ZuLbn",
    "outputId": "89bb904a-7b52-4cfc-fcec-326e3b29a926"
   },
   "outputs": [
    {
     "data": {
      "text/plain": [
       "Gender                               0\n",
       "Customer Type                        0\n",
       "Age                                  0\n",
       "Type of Travel                       0\n",
       "Class                                0\n",
       "Flight Distance                      0\n",
       "Inflight wifi service                0\n",
       "Departure/Arrival time convenient    0\n",
       "Ease of Online booking               0\n",
       "Gate location                        0\n",
       "Food and drink                       0\n",
       "Online boarding                      0\n",
       "Seat comfort                         0\n",
       "Inflight entertainment               0\n",
       "On-board service                     0\n",
       "Leg room service                     0\n",
       "Baggage handling                     0\n",
       "Checkin service                      0\n",
       "Inflight service                     0\n",
       "Cleanliness                          0\n",
       "Departure Delay in Minutes           0\n",
       "Arrival Delay in Minutes             0\n",
       "satisfaction                         0\n",
       "dtype: int64"
      ]
     },
     "execution_count": 12,
     "metadata": {},
     "output_type": "execute_result"
    }
   ],
   "source": [
    "df.isna().sum()"
   ]
  },
  {
   "cell_type": "markdown",
   "metadata": {
    "id": "903YKoroU_lG"
   },
   "source": [
    "### Outliers"
   ]
  },
  {
   "cell_type": "code",
   "execution_count": 13,
   "metadata": {
    "id": "qshdiiViVCfO"
   },
   "outputs": [],
   "source": [
    "def calculate_outliers_percentage(df):\n",
    "    # Filtrar solo columnas numéricas\n",
    "    df_numeric = df.select_dtypes(include='number')\n",
    "\n",
    "    # Calcular los cuartiles y el IQR\n",
    "    Q1 = df_numeric.quantile(0.25)\n",
    "    Q3 = df_numeric.quantile(0.75)\n",
    "    IQR = Q3 - Q1\n",
    "\n",
    "    # Límites para detectar outliers\n",
    "    lower_bound = Q1 - 1.5 * IQR\n",
    "    upper_bound = Q3 + 1.5 * IQR\n",
    "\n",
    "    # Contar los outliers por columna\n",
    "    num_outliers = ((df_numeric < lower_bound) | (df_numeric > upper_bound)).sum()\n",
    "\n",
    "    # Calcular el porcentaje de outliers\n",
    "    pct_outliers = round(num_outliers / len(df) * 100, 4)\n",
    "\n",
    "    return pct_outliers"
   ]
  },
  {
   "cell_type": "code",
   "execution_count": 14,
   "metadata": {
    "colab": {
     "base_uri": "https://localhost:8080/",
     "height": 613
    },
    "id": "UTQ-nULiVckL",
    "outputId": "9470c20b-a777-491d-bfcf-3ec3d3173d71"
   },
   "outputs": [
    {
     "data": {
      "application/vnd.microsoft.datawrangler.viewer.v0+json": {
       "columns": [
        {
         "name": "index",
         "rawType": "int64",
         "type": "integer"
        },
        {
         "name": "Column Name",
         "rawType": "object",
         "type": "string"
        },
        {
         "name": "% Outliers",
         "rawType": "float64",
         "type": "float"
        }
       ],
       "conversionMethod": "pd.DataFrame",
       "ref": "26239b7c-70a6-4a49-ac1d-9615aa472aec",
       "rows": [
        [
         "0",
         "Age",
         "0.0"
        ],
        [
         "1",
         "Flight Distance",
         "2.2049"
        ],
        [
         "2",
         "Inflight wifi service",
         "0.0"
        ],
        [
         "3",
         "Departure/Arrival time convenient",
         "0.0"
        ],
        [
         "4",
         "Ease of Online booking",
         "0.0"
        ],
        [
         "5",
         "Gate location",
         "0.0"
        ],
        [
         "6",
         "Food and drink",
         "0.0"
        ],
        [
         "7",
         "Online boarding",
         "0.0"
        ],
        [
         "8",
         "Seat comfort",
         "0.0"
        ],
        [
         "9",
         "Inflight entertainment",
         "0.0"
        ],
        [
         "10",
         "On-board service",
         "0.0"
        ],
        [
         "11",
         "Leg room service",
         "0.0"
        ],
        [
         "12",
         "Baggage handling",
         "0.0"
        ],
        [
         "13",
         "Checkin service",
         "12.4066"
        ],
        [
         "14",
         "Inflight service",
         "0.0"
        ],
        [
         "15",
         "Cleanliness",
         "0.0"
        ],
        [
         "16",
         "Departure Delay in Minutes",
         "13.9831"
        ],
        [
         "17",
         "Arrival Delay in Minutes",
         "13.524"
        ]
       ],
       "shape": {
        "columns": 2,
        "rows": 18
       }
      },
      "text/html": [
       "<div>\n",
       "<style scoped>\n",
       "    .dataframe tbody tr th:only-of-type {\n",
       "        vertical-align: middle;\n",
       "    }\n",
       "\n",
       "    .dataframe tbody tr th {\n",
       "        vertical-align: top;\n",
       "    }\n",
       "\n",
       "    .dataframe thead th {\n",
       "        text-align: right;\n",
       "    }\n",
       "</style>\n",
       "<table border=\"1\" class=\"dataframe\">\n",
       "  <thead>\n",
       "    <tr style=\"text-align: right;\">\n",
       "      <th></th>\n",
       "      <th>Column Name</th>\n",
       "      <th>% Outliers</th>\n",
       "    </tr>\n",
       "  </thead>\n",
       "  <tbody>\n",
       "    <tr>\n",
       "      <th>0</th>\n",
       "      <td>Age</td>\n",
       "      <td>0.0000</td>\n",
       "    </tr>\n",
       "    <tr>\n",
       "      <th>1</th>\n",
       "      <td>Flight Distance</td>\n",
       "      <td>2.2049</td>\n",
       "    </tr>\n",
       "    <tr>\n",
       "      <th>2</th>\n",
       "      <td>Inflight wifi service</td>\n",
       "      <td>0.0000</td>\n",
       "    </tr>\n",
       "    <tr>\n",
       "      <th>3</th>\n",
       "      <td>Departure/Arrival time convenient</td>\n",
       "      <td>0.0000</td>\n",
       "    </tr>\n",
       "    <tr>\n",
       "      <th>4</th>\n",
       "      <td>Ease of Online booking</td>\n",
       "      <td>0.0000</td>\n",
       "    </tr>\n",
       "    <tr>\n",
       "      <th>5</th>\n",
       "      <td>Gate location</td>\n",
       "      <td>0.0000</td>\n",
       "    </tr>\n",
       "    <tr>\n",
       "      <th>6</th>\n",
       "      <td>Food and drink</td>\n",
       "      <td>0.0000</td>\n",
       "    </tr>\n",
       "    <tr>\n",
       "      <th>7</th>\n",
       "      <td>Online boarding</td>\n",
       "      <td>0.0000</td>\n",
       "    </tr>\n",
       "    <tr>\n",
       "      <th>8</th>\n",
       "      <td>Seat comfort</td>\n",
       "      <td>0.0000</td>\n",
       "    </tr>\n",
       "    <tr>\n",
       "      <th>9</th>\n",
       "      <td>Inflight entertainment</td>\n",
       "      <td>0.0000</td>\n",
       "    </tr>\n",
       "    <tr>\n",
       "      <th>10</th>\n",
       "      <td>On-board service</td>\n",
       "      <td>0.0000</td>\n",
       "    </tr>\n",
       "    <tr>\n",
       "      <th>11</th>\n",
       "      <td>Leg room service</td>\n",
       "      <td>0.0000</td>\n",
       "    </tr>\n",
       "    <tr>\n",
       "      <th>12</th>\n",
       "      <td>Baggage handling</td>\n",
       "      <td>0.0000</td>\n",
       "    </tr>\n",
       "    <tr>\n",
       "      <th>13</th>\n",
       "      <td>Checkin service</td>\n",
       "      <td>12.4066</td>\n",
       "    </tr>\n",
       "    <tr>\n",
       "      <th>14</th>\n",
       "      <td>Inflight service</td>\n",
       "      <td>0.0000</td>\n",
       "    </tr>\n",
       "    <tr>\n",
       "      <th>15</th>\n",
       "      <td>Cleanliness</td>\n",
       "      <td>0.0000</td>\n",
       "    </tr>\n",
       "    <tr>\n",
       "      <th>16</th>\n",
       "      <td>Departure Delay in Minutes</td>\n",
       "      <td>13.9831</td>\n",
       "    </tr>\n",
       "    <tr>\n",
       "      <th>17</th>\n",
       "      <td>Arrival Delay in Minutes</td>\n",
       "      <td>13.5240</td>\n",
       "    </tr>\n",
       "  </tbody>\n",
       "</table>\n",
       "</div>"
      ],
      "text/plain": [
       "                          Column Name  % Outliers\n",
       "0                                 Age      0.0000\n",
       "1                     Flight Distance      2.2049\n",
       "2               Inflight wifi service      0.0000\n",
       "3   Departure/Arrival time convenient      0.0000\n",
       "4              Ease of Online booking      0.0000\n",
       "5                       Gate location      0.0000\n",
       "6                      Food and drink      0.0000\n",
       "7                     Online boarding      0.0000\n",
       "8                        Seat comfort      0.0000\n",
       "9              Inflight entertainment      0.0000\n",
       "10                   On-board service      0.0000\n",
       "11                   Leg room service      0.0000\n",
       "12                   Baggage handling      0.0000\n",
       "13                    Checkin service     12.4066\n",
       "14                   Inflight service      0.0000\n",
       "15                        Cleanliness      0.0000\n",
       "16         Departure Delay in Minutes     13.9831\n",
       "17           Arrival Delay in Minutes     13.5240"
      ]
     },
     "execution_count": 14,
     "metadata": {},
     "output_type": "execute_result"
    }
   ],
   "source": [
    "outliers = pd.DataFrame(calculate_outliers_percentage(df), columns=['% Outliers'])\n",
    "outliers.index.name = 'Column Name'\n",
    "outliers.reset_index(inplace=True)\n",
    "outliers"
   ]
  },
  {
   "cell_type": "markdown",
   "metadata": {
    "id": "PWNCInSRXIOg"
   },
   "source": [
    "Se pueden ver un gran número de valores atípicos en los retrasos y servicio check-in, y algunos en la distancia de vuelo. No obstante, en estos casos no podemos considerar que estos valores no sean válidos, ya que es factible que haya habido puntualmente algún retraso muy exagerado o una situación de colapso en check-in."
   ]
  },
  {
   "cell_type": "markdown",
   "metadata": {
    "id": "JzmceIUKf5pt"
   },
   "source": [
    "### Encoding de variables categóricas"
   ]
  },
  {
   "cell_type": "markdown",
   "metadata": {
    "id": "0hFr6jTBn6cx"
   },
   "source": [
    "Codificamos las variables categóricas que tienen unicamente dos valores como binarios."
   ]
  },
  {
   "cell_type": "code",
   "execution_count": 15,
   "metadata": {
    "id": "lc8sQWEaXdA5"
   },
   "outputs": [],
   "source": [
    "df['Gender'] = np.where(df['Gender'] == 'Male', 1, 0).astype('int16')\n",
    "df['Customer Type'] = np.where(df['Customer Type'] == 'Loyal Customer', 1, 0).astype('int16')\n",
    "df['Type of Travel'] = np.where(df['Type of Travel'] == 'Business Travel', 1, 0).astype('int16')"
   ]
  },
  {
   "cell_type": "markdown",
   "metadata": {
    "id": "TTFhyokPmxgA"
   },
   "source": [
    "Encoding de la variable dependiente"
   ]
  },
  {
   "cell_type": "code",
   "execution_count": 16,
   "metadata": {
    "colab": {
     "base_uri": "https://localhost:8080/"
    },
    "id": "QwDhdYfYmwJc",
    "outputId": "441e6e8d-60ce-42dc-f161-e8b60b195fe0"
   },
   "outputs": [
    {
     "data": {
      "text/plain": [
       "array([0, 1])"
      ]
     },
     "execution_count": 16,
     "metadata": {},
     "output_type": "execute_result"
    }
   ],
   "source": [
    "from sklearn.preprocessing import LabelEncoder\n",
    "le = LabelEncoder()\n",
    "col_encoded = le.fit_transform(df['satisfaction'])\n",
    "df['satisfaction'] = col_encoded\n",
    "df['satisfaction'].unique()"
   ]
  },
  {
   "cell_type": "markdown",
   "metadata": {
    "id": "0rqo3em3iP5n"
   },
   "source": [
    "Label Encoder guarda una relación entre el número y la etiqueta original y permite revertir la codificación (inverse_transform) para interpretar resultados. Es buena práctca para la codificación de una variable dependiente categórica."
   ]
  },
  {
   "cell_type": "code",
   "execution_count": 17,
   "metadata": {
    "id": "aTMPTlvzkxiw"
   },
   "outputs": [],
   "source": [
    "from sklearn.preprocessing import OrdinalEncoder\n",
    "\n",
    "encoder = OrdinalEncoder(categories=[['Eco', 'Eco Plus', 'Business']])\n",
    "df['Class'] = encoder.fit_transform(df[['Class']]).astype('int8')"
   ]
  },
  {
   "cell_type": "markdown",
   "metadata": {
    "id": "KpAZaPmhk-IK"
   },
   "source": [
    "Usamos un Ordinal Encoding para preservar la jerarquía implícita, ya que Business > Eco Plus > Eco en términos de calidad/precio/servicio. Es una variable con orden, si usasemos One-Hot Encoding se perdería la jerarquía y los modelos no podrán captar que Business > Eco Plus > Eco, porque todas las clases se tratan como independientes"
   ]
  },
  {
   "cell_type": "markdown",
   "metadata": {
    "id": "wNXJ8Kl4xZsP"
   },
   "source": [
    "## Correlaciones después de la limpieza"
   ]
  },
  {
   "cell_type": "code",
   "execution_count": 18,
   "metadata": {
    "colab": {
     "base_uri": "https://localhost:8080/",
     "height": 939
    },
    "id": "6Hxg-wR4utfZ",
    "outputId": "c2c7650b-122b-4720-ad39-c5e23256f067"
   },
   "outputs": [
    {
     "data": {
      "text/plain": [
       "Text(0.5, 1.0, 'Data correlations after Preprocessing')"
      ]
     },
     "execution_count": 18,
     "metadata": {},
     "output_type": "execute_result"
    },
    {
     "data": {
      "image/png": "[encoded data removed]",
      "text/plain": [
       "<Figure size 1400x800 with 2 Axes>"
      ]
     },
     "metadata": {},
     "output_type": "display_data"
    }
   ],
   "source": [
    "correlation=df.corr()\n",
    "plt.figure(figsize=(14,8))\n",
    "sns.heatmap(correlation,annot=True,fmt='.2f',annot_kws={'size': 10},linewidths=0.5,cmap='Blues')\n",
    "plt.title(\"Data correlations after Preprocessing\")"
   ]
  },
  {
   "cell_type": "markdown",
   "metadata": {
    "id": "vTjLJqh8oVgQ"
   },
   "source": [
    "## Data Splitting"
   ]
  },
  {
   "cell_type": "code",
   "execution_count": 19,
   "metadata": {
    "id": "T6XdDRLMpNz6"
   },
   "outputs": [],
   "source": [
    "X = df.drop([\"satisfaction\"], axis = 1)\n",
    "y = df[\"satisfaction\"]"
   ]
  },
  {
   "cell_type": "markdown",
   "metadata": {
    "id": "wWO9sS19sKfp"
   },
   "source": [
    "Extraemos las features y la variable dependiente (la y, satifaction)"
   ]
  },
  {
   "cell_type": "code",
   "execution_count": 20,
   "metadata": {
    "id": "wnYG8FvBoXMg"
   },
   "outputs": [],
   "source": [
    "from sklearn.model_selection import train_test_split\n",
    "X_train, X_test, y_train, y_test = train_test_split(X, y, test_size = 0.2, stratify=y, random_state = 1)"
   ]
  },
  {
   "cell_type": "markdown",
   "metadata": {
    "id": "ZRPm1kmxsWMY"
   },
   "source": [
    "Dividimos el dataset en training y test, con proporción de 80% del training y 20% del test y stratificamos para mantener el balance de clases en ambos grupos."
   ]
  },
  {
   "cell_type": "code",
   "execution_count": 21,
   "metadata": {
    "id": "7TLwd-FBrxzx"
   },
   "outputs": [],
   "source": [
    "from sklearn.model_selection import StratifiedKFold\n",
    "\n",
    "k_fold = StratifiedKFold(n_splits=10, shuffle=True, random_state=42)"
   ]
  },
  {
   "cell_type": "markdown",
   "metadata": {
    "id": "HlMZu1ivsoI6"
   },
   "source": [
    "Preparamos para implementar la validación cruzada:\n",
    "- Partimos el dataset en 10 divisiones (9 para entrenar, 1 para validar, rotando).\n",
    "- Mezclamos aleatoriamente los datos antes de dividirlos.\n",
    "- Fijamos la semilla para que los resultados sean reproducibles."
   ]
  },
  {
   "cell_type": "markdown",
   "metadata": {
    "id": "7kZ6l48xx_Nt"
   },
   "source": [
    "## Desbalance"
   ]
  },
  {
   "cell_type": "code",
   "execution_count": 22,
   "metadata": {
    "colab": {
     "base_uri": "https://localhost:8080/",
     "height": 178
    },
    "id": "juL3Z988yCsg",
    "outputId": "076fe036-8fde-4f98-bd6e-c9b8506d6cd1"
   },
   "outputs": [
    {
     "data": {
      "text/plain": [
       "satisfaction\n",
       "0    0.566666\n",
       "1    0.433334\n",
       "Name: proportion, dtype: float64"
      ]
     },
     "execution_count": 22,
     "metadata": {},
     "output_type": "execute_result"
    }
   ],
   "source": [
    "y_train.value_counts(normalize=True)"
   ]
  },
  {
   "cell_type": "markdown",
   "metadata": {
    "id": "cklXbOPAypoK"
   },
   "source": [
    "Significa que el 56.7% de los ejemplos de entrenamiento pertenecen a la clase 0 (\"neutral or dissatisfied\") y el 43.3% a la clase 1 (\"satisfied\").\n",
    "Está razonablemente balanceado, por lo que no es obligatorio aplicar técnicas de reamostrado (p.ej aumentando la clase minoritaria o disminuyendo la mayoritaria) o pesos(p.ej. penalizando más los errores en la clase minoritaria)"
   ]
  },
  {
   "cell_type": "markdown",
   "metadata": {
    "id": "xkuN7RHq0yTw"
   },
   "source": [
    "## Modelado"
   ]
  },
  {
   "cell_type": "markdown",
   "metadata": {
    "id": "LJ-MF2GR0-vz"
   },
   "source": [
    "Como tenemos valores extremos pero reales (outliers reales en varias columnas) podría ser apropiado el uso de modelos que no se ven muy afectados por valores extremos, porque se basan en particiones (como árboles), como por ejemplo:\n",
    "- Random Forest\n",
    "- XGBoost / LightGBM / CatBoost\n",
    "- Decision Tree\n",
    "- Gradient Boosting"
   ]
  },
  {
   "cell_type": "markdown",
   "metadata": {
    "id": "bJjAhWuT14Fr"
   },
   "source": [
    "Los modelos como:\n",
    "- Regresión logística\n",
    "- SVM\n",
    "- KNN\n",
    "\n",
    "se ven muy afectados por los outliers.\n",
    "\n",
    "Es cierto que, teniendo en cuenta el heatmap de correlación post-limpieza podríamos no tomar muy en cuenta las variables como los retrasos de salida/llegada ya que al parecer no tienen una correlación fuerte con la satisfacción (aunque podría parecer ligeramente sospechoso..), pero las columnas del servicio servicio check-in y la distancia de vuelo que también presentan outliers sí que muestran una correlación ligera-media con la satisfacción. En caso de trabajar con ellas, habría que hacer un escalado --> mejor con RobustScaler (por tener outliers, el RS usa el rango IQR)"
   ]
  },
  {
   "cell_type": "code",
   "execution_count": null,
   "metadata": {
    "id": "Tko29m5M00a-"
   },
   "outputs": [],
   "source": []
  },
  {
   "cell_type": "markdown",
   "metadata": {},
   "source": [
    "### Guardamos el nuevo Dataset ya limpio en un nuevo csv."
   ]
  },
  {
   "cell_type": "code",
   "execution_count": 24,
   "metadata": {},
   "outputs": [],
   "source": [
    "df.to_csv('data/processed_data.csv')"
   ]
  }
 ],
 "metadata": {
  "colab": {
   "provenance": []
  },
  "kernelspec": {
   "display_name": ".venv",
   "language": "python",
   "name": "python3"
  },
  "language_info": {
   "codemirror_mode": {
    "name": "ipython",
    "version": 3
   },
   "file_extension": ".py",
   "mimetype": "text/x-python",
   "name": "python",
   "nbconvert_exporter": "python",
   "pygments_lexer": "ipython3",
   "version": "3.12.1"
  }
 },
 "nbformat": 4,
 "nbformat_minor": 0
}
