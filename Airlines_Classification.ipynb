{
 "cells": [
  {
   "cell_type": "markdown",
   "metadata": {
    "id": "kPpPH0aiJKLs"
   },
   "source": [
    "## Importación de librerias"
   ]
  },
  {
   "cell_type": "code",
   "execution_count": null,
   "metadata": {
    "id": "iKpoZP-C0ath"
   },
   "outputs": [],
   "source": [
    "import numpy as np\n",
    "import pandas as pd\n",
    "import matplotlib.pyplot as plt\n",
    "import seaborn as sns\n",
    "import missingno as msno"
   ]
  },
  {
   "cell_type": "markdown",
   "metadata": {
    "id": "Q41XWof8JXCi"
   },
   "source": [
    "## Carga de archivos"
   ]
  },
  {
   "cell_type": "code",
   "execution_count": null,
   "metadata": {
    "id": "Z9YNJusiJZhs"
   },
   "outputs": [],
   "source": [
    "df=pd.read_csv(\"https://raw.githubusercontent.com/Bootcamp-IA-P4/flight-feel-analyzer/refs/heads/dev/data/airline_passenger_satisfaction.csv\")"
   ]
  },
  {
   "cell_type": "markdown",
   "metadata": {
    "id": "-Vh9fp_zcPnn"
   },
   "source": [
    "## Exploración Inicial"
   ]
  },
  {
   "cell_type": "code",
   "execution_count": null,
   "metadata": {
    "colab": {
     "base_uri": "https://localhost:8080/",
     "height": 638
    },
    "id": "5EcoU2ArcUD2",
    "outputId": "77ee1824-331c-4369-9eb2-d2e178e7e7fd"
   },
   "outputs": [],
   "source": [
    "df.head(10)"
   ]
  },
  {
   "cell_type": "code",
   "execution_count": null,
   "metadata": {
    "colab": {
     "base_uri": "https://localhost:8080/"
    },
    "id": "WWyZMSAycn9_",
    "outputId": "78b17ac3-fd36-4f32-afcd-802a91dee86d"
   },
   "outputs": [],
   "source": [
    "print('La forma del dataset es', df.shape)\n",
    "print('Rows duplicadas en train dataset :', df.duplicated().sum() )"
   ]
  },
  {
   "cell_type": "code",
   "execution_count": null,
   "metadata": {
    "colab": {
     "base_uri": "https://localhost:8080/"
    },
    "id": "o8odWJb8c1C9",
    "outputId": "4192ef3b-1f59-4dd9-ea73-4e624dd11b8f"
   },
   "outputs": [],
   "source": [
    "df.info()"
   ]
  },
  {
   "cell_type": "code",
   "execution_count": null,
   "metadata": {
    "id": "ErfiDC7idVFk"
   },
   "outputs": [],
   "source": [
    "%%capture\n",
    "!pip install ydata-profiling\n",
    "from ydata_profiling import ProfileReport\n",
    "from IPython.display import HTML # import the HTML object"
   ]
  },
  {
   "cell_type": "code",
   "execution_count": null,
   "metadata": {
    "colab": {
     "base_uri": "https://localhost:8080/",
     "height": 1000,
     "referenced_widgets": [
      "8a1a0bb975c642a98f3b09ebd345f9dc",
      "590e34e3028345f99265d0a0f393d2d2",
      "55e04635e3294350be216c2d94441ad5",
      "d9e1250839e6470a87b52309dbe872cc",
      "5787676cae5640f4bedd6dad416d78a1",
      "2537ef71a2b848f39827516a8294d000",
      "4f45a88f271d4b818ee95350d64afd64",
      "ed06bfccfc414a79b891dedc606ff264",
      "7a13830db0a141aaab284ffb979fe924",
      "aaa680a08f994fb598bdb31b3debd513",
      "fa941220df444acdb7999a6c7e285fd9",
      "514e3f3c1c754e139663406a32c2e7d1",
      "7283b0688c414e34b65571732ce7ccfd",
      "f7945ec8027b46d5a6a095d63033ab33",
      "fc0a5b49ab65466a88fc850fce804780",
      "a968ec5f826840a6b50b42ef66c8bccc",
      "f432feb7a7084f8eb0150609e5ceb987",
      "28cbec87c56e483ab6e55ed8092a4b2e",
      "be0b578060f049fd993eecdb61578b7e",
      "28f147aa7d0340238ff204a8d35a7db9",
      "1af028b59c234e67802a707c8c49de4d",
      "82f1702b6dbb4c53bcf40bd26bc28865",
      "6432d0e4c2e147eb98a72e3c695d1cba",
      "52a58bfad34f44e1bf31a91006eee169",
      "329495ddd9bc43b7a4922b44066e567c",
      "c0522db855c14e118fedc0de8ae28ba8",
      "5c1e6d16605b4eaaa201b68157fddaa9",
      "7817a859df844240ada345322032e590",
      "5ed3b07887ca44d895afbd3161eb795d",
      "72e52d1654454f5fae725df7a4ba43be",
      "14b80f42ce64461886ce5a4f96569445",
      "483b487de3e94dbdac553116f567af14",
      "79fc6e08756141e194989e6453c78966",
      "4b930d1f6a724a3faa105abece295f7e",
      "bb1cf99d2fe4496cbe81f86f2c3d6890",
      "eb343acd8e3a4bccb8217d70e11dcc48",
      "2ebcbd15472b4910a59746558413f007",
      "6cd363593b4a472291b65b44059c624b",
      "3b1b82cff80b4fae84beec9807e3c1b3",
      "27b843a4a8234846b55912b3e26e00b2",
      "95120b9be5a8445f82c15b1c52bea21c",
      "767eb207063849bf954138a1fe08b485",
      "7d61849d205047c5ba4344d5d2380e30",
      "59d71531ef624c3698a13d2857c0e45e"
     ]
    },
    "id": "RiC-o-V8dhDL",
    "outputId": "e5f25fc8-23cd-4460-ab84-c04ef54a01d8"
   },
   "outputs": [],
   "source": [
    "profile_change = ProfileReport(df,title=\"Airlines Satisfaction. Profiling Report\", explorative=True,)\n",
    "profile_change.to_file(\"output_change.html\")\n",
    "HTML(filename='output_change.html')"
   ]
  },
  {
   "cell_type": "code",
   "execution_count": null,
   "metadata": {
    "colab": {
     "base_uri": "https://localhost:8080/",
     "height": 355
    },
    "id": "Wl3honDRp1pc",
    "outputId": "ddd0e4a3-55fb-48e1-ddfd-f2214c883b44"
   },
   "outputs": [],
   "source": [
    "df.describe()"
   ]
  },
  {
   "cell_type": "markdown",
   "metadata": {
    "id": "R3Wj5JwUmdWK"
   },
   "source": [
    "## Limpieza"
   ]
  },
  {
   "cell_type": "code",
   "execution_count": null,
   "metadata": {
    "id": "YjcugXXlmM3l"
   },
   "outputs": [],
   "source": [
    "df = df.drop(df.iloc[:,[0, 1]], axis = 1)"
   ]
  },
  {
   "cell_type": "markdown",
   "metadata": {
    "id": "KXnqVb5SoeCk"
   },
   "source": [
    "Aqui borramos las primeras 2 columnas (unnamed y id) porque no aportan valor"
   ]
  },
  {
   "cell_type": "markdown",
   "metadata": {
    "id": "wDaQRk6Yqe_k"
   },
   "source": [
    "### Missing values"
   ]
  },
  {
   "cell_type": "code",
   "execution_count": null,
   "metadata": {
    "colab": {
     "base_uri": "https://localhost:8080/"
    },
    "id": "Y2LnXPZ7toLQ",
    "outputId": "be789f02-415e-4663-ee22-1861f7cf70b6"
   },
   "outputs": [],
   "source": [
    "correlation_arrival = df.corr(numeric_only=True)['Arrival Delay in Minutes'].sort_values(ascending=False)\n",
    "print(correlation_arrival)"
   ]
  },
  {
   "cell_type": "markdown",
   "metadata": {
    "id": "FY4LYVWholsG"
   },
   "source": [
    "Vemos la relación que tiene la variable con missing data (Arrival Delay in Minutes) con otras"
   ]
  },
  {
   "cell_type": "code",
   "execution_count": null,
   "metadata": {
    "colab": {
     "base_uri": "https://localhost:8080/",
     "height": 430
    },
    "id": "g9d3UZoAqT_B",
    "outputId": "a50d22e0-650d-4949-b57f-c4e2d55e3050"
   },
   "outputs": [],
   "source": [
    "plt.scatter(df['Arrival Delay in Minutes'], df['Departure Delay in Minutes'], alpha = 0.5)\n",
    "pass"
   ]
  },
  {
   "cell_type": "code",
   "execution_count": null,
   "metadata": {
    "id": "FDP55vRWxs3j"
   },
   "outputs": [],
   "source": [
    "from sklearn.linear_model import LinearRegression\n",
    "\n",
    "# Separar los datos donde no hay NaN (para entrenar el modelo)\n",
    "train_data = df.dropna(subset=['Arrival Delay in Minutes'])\n",
    "X_train = train_data[['Departure Delay in Minutes']]\n",
    "y_train = train_data['Arrival Delay in Minutes']\n",
    "\n",
    "# Entrenar modelo lineal\n",
    "model = LinearRegression()\n",
    "model.fit(X_train, y_train)\n",
    "\n",
    "# Predecir los valores faltantes\n",
    "missing_mask = df['Arrival Delay in Minutes'].isnull()\n",
    "X_missing = df.loc[missing_mask, ['Departure Delay in Minutes']]\n",
    "df.loc[missing_mask, 'Arrival Delay in Minutes'] = model.predict(X_missing)\n"
   ]
  },
  {
   "cell_type": "markdown",
   "metadata": {
    "id": "vDE0CwsXo4hS"
   },
   "source": [
    "Imputamos los datos faltantes con una regresión lineal tomando como la variable predictora el Departure Delay in Minutes que es la que tiene una correlación de casi 0,97."
   ]
  },
  {
   "cell_type": "code",
   "execution_count": null,
   "metadata": {
    "colab": {
     "base_uri": "https://localhost:8080/",
     "height": 805
    },
    "id": "-4nA5O6ZuLbn",
    "outputId": "89bb904a-7b52-4cfc-fcec-326e3b29a926"
   },
   "outputs": [],
   "source": [
    "df.isna().sum()"
   ]
  },
  {
   "cell_type": "markdown",
   "metadata": {
    "id": "903YKoroU_lG"
   },
   "source": [
    "### Outliers"
   ]
  },
  {
   "cell_type": "code",
   "execution_count": null,
   "metadata": {
    "id": "qshdiiViVCfO"
   },
   "outputs": [],
   "source": [
    "def calculate_outliers_percentage(df):\n",
    "    # Filtrar solo columnas numéricas\n",
    "    df_numeric = df.select_dtypes(include='number')\n",
    "\n",
    "    # Calcular los cuartiles y el IQR\n",
    "    Q1 = df_numeric.quantile(0.25)\n",
    "    Q3 = df_numeric.quantile(0.75)\n",
    "    IQR = Q3 - Q1\n",
    "\n",
    "    # Límites para detectar outliers\n",
    "    lower_bound = Q1 - 1.5 * IQR\n",
    "    upper_bound = Q3 + 1.5 * IQR\n",
    "\n",
    "    # Contar los outliers por columna\n",
    "    num_outliers = ((df_numeric < lower_bound) | (df_numeric > upper_bound)).sum()\n",
    "\n",
    "    # Calcular el porcentaje de outliers\n",
    "    pct_outliers = round(num_outliers / len(df) * 100, 4)\n",
    "\n",
    "    return pct_outliers"
   ]
  },
  {
   "cell_type": "code",
   "execution_count": null,
   "metadata": {
    "colab": {
     "base_uri": "https://localhost:8080/",
     "height": 613
    },
    "id": "UTQ-nULiVckL",
    "outputId": "9470c20b-a777-491d-bfcf-3ec3d3173d71"
   },
   "outputs": [],
   "source": [
    "outliers = pd.DataFrame(calculate_outliers_percentage(df), columns=['% Outliers'])\n",
    "outliers.index.name = 'Column Name'\n",
    "outliers.reset_index(inplace=True)\n",
    "outliers"
   ]
  },
  {
   "cell_type": "markdown",
   "metadata": {
    "id": "PWNCInSRXIOg"
   },
   "source": [
    "Se pueden ver un gran número de valores atípicos en los retrasos y servicio check-in, y algunos en la distancia de vuelo. No obstante, en estos casos no podemos considerar que estos valores no sean válidos, ya que es factible que haya habido puntualmente algún retraso muy exagerado o una situación de colapso en check-in."
   ]
  },
  {
   "cell_type": "markdown",
   "metadata": {
    "id": "JzmceIUKf5pt"
   },
   "source": [
    "### Encoding de variables categóricas"
   ]
  },
  {
   "cell_type": "markdown",
   "metadata": {
    "id": "0hFr6jTBn6cx"
   },
   "source": [
    "Codificamos las variables categóricas que tienen unicamente dos valores como binarios."
   ]
  },
  {
   "cell_type": "code",
   "execution_count": null,
   "metadata": {
    "id": "lc8sQWEaXdA5"
   },
   "outputs": [],
   "source": [
    "df['Gender'] = np.where(df['Gender'] == 'Male', 1, 0).astype('int16')\n",
    "df['Customer Type'] = np.where(df['Customer Type'] == 'Loyal Customer', 1, 0).astype('int16')\n",
    "df['Type of Travel'] = np.where(df['Type of Travel'] == 'Business Travel', 1, 0).astype('int16')"
   ]
  },
  {
   "cell_type": "markdown",
   "metadata": {
    "id": "TTFhyokPmxgA"
   },
   "source": [
    "Encoding de la variable dependiente"
   ]
  },
  {
   "cell_type": "code",
   "execution_count": null,
   "metadata": {
    "colab": {
     "base_uri": "https://localhost:8080/"
    },
    "id": "QwDhdYfYmwJc",
    "outputId": "441e6e8d-60ce-42dc-f161-e8b60b195fe0"
   },
   "outputs": [],
   "source": [
    "from sklearn.preprocessing import LabelEncoder\n",
    "le = LabelEncoder()\n",
    "col_encoded = le.fit_transform(df['satisfaction'])\n",
    "df['satisfaction'] = col_encoded\n",
    "df['satisfaction'].unique()"
   ]
  },
  {
   "cell_type": "markdown",
   "metadata": {
    "id": "0rqo3em3iP5n"
   },
   "source": [
    "Label Encoder guarda una relación entre el número y la etiqueta original y permite revertir la codificación (inverse_transform) para interpretar resultados. Es buena práctca para la codificación de una variable dependiente categórica."
   ]
  },
  {
   "cell_type": "code",
   "execution_count": null,
   "metadata": {
    "id": "aTMPTlvzkxiw"
   },
   "outputs": [],
   "source": [
    "from sklearn.preprocessing import OrdinalEncoder\n",
    "\n",
    "encoder = OrdinalEncoder(categories=[['Eco', 'Eco Plus', 'Business']])\n",
    "df['Class'] = encoder.fit_transform(df[['Class']]).astype('int8')"
   ]
  },
  {
   "cell_type": "markdown",
   "metadata": {
    "id": "KpAZaPmhk-IK"
   },
   "source": [
    "Usamos un Ordinal Encoding para preservar la jerarquía implícita, ya que Business > Eco Plus > Eco en términos de calidad/precio/servicio. Es una variable con orden, si usasemos One-Hot Encoding se perdería la jerarquía y los modelos no podrán captar que Business > Eco Plus > Eco, porque todas las clases se tratan como independientes"
   ]
  },
  {
   "cell_type": "markdown",
   "metadata": {
    "id": "wNXJ8Kl4xZsP"
   },
   "source": [
    "## Correlaciones después de la limpieza"
   ]
  },
  {
   "cell_type": "code",
   "execution_count": null,
   "metadata": {
    "colab": {
     "base_uri": "https://localhost:8080/",
     "height": 939
    },
    "id": "6Hxg-wR4utfZ",
    "outputId": "c2c7650b-122b-4720-ad39-c5e23256f067"
   },
   "outputs": [],
   "source": [
    "correlation=df.corr()\n",
    "plt.figure(figsize=(14,8))\n",
    "sns.heatmap(correlation,annot=True,fmt='.2f',annot_kws={'size': 10},linewidths=0.5,cmap='Blues')\n",
    "plt.title(\"Data correlations after Preprocessing\")"
   ]
  },
  {
   "cell_type": "markdown",
   "metadata": {
    "id": "vTjLJqh8oVgQ"
   },
   "source": [
    "## Data Splitting"
   ]
  },
  {
   "cell_type": "code",
   "execution_count": null,
   "metadata": {
    "id": "T6XdDRLMpNz6"
   },
   "outputs": [],
   "source": [
    "X = df.drop([\"satisfaction\"], axis = 1)\n",
    "y = df[\"satisfaction\"]"
   ]
  },
  {
   "cell_type": "markdown",
   "metadata": {
    "id": "wWO9sS19sKfp"
   },
   "source": [
    "Extraemos las features y la variable dependiente (la y, satifaction)"
   ]
  },
  {
   "cell_type": "code",
   "execution_count": null,
   "metadata": {
    "id": "wnYG8FvBoXMg"
   },
   "outputs": [],
   "source": [
    "from sklearn.model_selection import train_test_split\n",
    "X_train, X_test, y_train, y_test = train_test_split(X, y, test_size = 0.2, stratify=y, random_state = 1)"
   ]
  },
  {
   "cell_type": "markdown",
   "metadata": {
    "id": "ZRPm1kmxsWMY"
   },
   "source": [
    "Dividimos el dataset en training y test, con proporción de 80% del training y 20% del test y stratificamos para mantener el balance de clases en ambos grupos."
   ]
  },
  {
   "cell_type": "code",
   "execution_count": null,
   "metadata": {
    "id": "7TLwd-FBrxzx"
   },
   "outputs": [],
   "source": [
    "from sklearn.model_selection import StratifiedKFold\n",
    "\n",
    "k_fold = StratifiedKFold(n_splits=10, shuffle=True, random_state=42)"
   ]
  },
  {
   "cell_type": "markdown",
   "metadata": {
    "id": "HlMZu1ivsoI6"
   },
   "source": [
    "Preparamos para implementar la validación cruzada:\n",
    "- Partimos el dataset en 10 divisiones (9 para entrenar, 1 para validar, rotando).\n",
    "- Mezclamos aleatoriamente los datos antes de dividirlos.\n",
    "- Fijamos la semilla para que los resultados sean reproducibles."
   ]
  },
  {
   "cell_type": "markdown",
   "metadata": {
    "id": "7kZ6l48xx_Nt"
   },
   "source": [
    "## Desbalance"
   ]
  },
  {
   "cell_type": "code",
   "execution_count": null,
   "metadata": {
    "colab": {
     "base_uri": "https://localhost:8080/",
     "height": 178
    },
    "id": "juL3Z988yCsg",
    "outputId": "076fe036-8fde-4f98-bd6e-c9b8506d6cd1"
   },
   "outputs": [],
   "source": [
    "y_train.value_counts(normalize=True)"
   ]
  },
  {
   "cell_type": "markdown",
   "metadata": {
    "id": "cklXbOPAypoK"
   },
   "source": [
    "Significa que el 56.7% de los ejemplos de entrenamiento pertenecen a la clase 0 (\"neutral or dissatisfied\") y el 43.3% a la clase 1 (\"satisfied\").\n",
    "Está razonablemente balanceado, por lo que no es obligatorio aplicar técnicas de reamostrado (p.ej aumentando la clase minoritaria o disminuyendo la mayoritaria) o pesos(p.ej. penalizando más los errores en la clase minoritaria)"
   ]
  },
  {
   "cell_type": "markdown",
   "metadata": {
    "id": "xkuN7RHq0yTw"
   },
   "source": [
    "## Modelado"
   ]
  },
  {
   "cell_type": "markdown",
   "metadata": {
    "id": "LJ-MF2GR0-vz"
   },
   "source": [
    "Como tenemos valores extremos pero reales (outliers reales en varias columnas) podría ser apropiado el uso de modelos que no se ven muy afectados por valores extremos, porque se basan en particiones (como árboles), como por ejemplo:\n",
    "- Random Forest\n",
    "- XGBoost / LightGBM / CatBoost\n",
    "- Decision Tree\n",
    "- Gradient Boosting"
   ]
  },
  {
   "cell_type": "markdown",
   "metadata": {
    "id": "bJjAhWuT14Fr"
   },
   "source": [
    "Los modelos como:\n",
    "- Regresión logística\n",
    "- SVM\n",
    "- KNN\n",
    "\n",
    "se ven muy afectados por los outliers.\n",
    "\n",
    "Es cierto que, teniendo en cuenta el heatmap de correlación post-limpieza podríamos no tomar muy en cuenta las variables como los retrasos de salida/llegada ya que al parecer no tienen una correlación fuerte con la satisfacción (aunque podría parecer ligeramente sospechoso..), pero las columnas del servicio servicio check-in y la distancia de vuelo que también presentan outliers sí que muestran una correlación ligera-media con la satisfacción. En caso de trabajar con ellas, habría que hacer un escalado --> mejor con RobustScaler (por tener outliers, el RS usa el rango IQR)"
   ]
  },
  {
   "cell_type": "code",
   "execution_count": null,
   "metadata": {
    "id": "Tko29m5M00a-"
   },
   "outputs": [],
   "source": []
  }
 ],
 "metadata": {
  "colab": {
   "provenance": []
  },
  "kernelspec": {
   "display_name": "Python 3",
   "name": "python3"
  },
  "language_info": {
   "name": "python"
  }
 },
 "nbformat": 4,
 "nbformat_minor": 0
}
