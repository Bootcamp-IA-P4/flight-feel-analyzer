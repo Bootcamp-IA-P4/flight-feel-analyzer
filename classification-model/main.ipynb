{
 "cells": [
  {
   "cell_type": "markdown",
   "id": "7c8c25a4",
   "metadata": {},
   "source": [
    "Aquí irá la implementación del modelo de clasificación, posterior al eda."
   ]
  }
 ],
 "metadata": {
  "language_info": {
   "name": "python"
  }
 },
 "nbformat": 4,
 "nbformat_minor": 5
}
